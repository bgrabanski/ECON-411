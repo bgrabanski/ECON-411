{
 "cells": [
  {
   "cell_type": "markdown",
   "id": "eff43ed8",
   "metadata": {},
   "source": [
    "#hello world \n",
    "note: Strings are a type of data stored. Print is useful to display an output. You can store different data under different names using = "
   ]
  },
  {
   "cell_type": "code",
   "execution_count": 2,
   "id": "27f9ba7b",
   "metadata": {
    "scrolled": false
   },
   "outputs": [
    {
     "name": "stdout",
     "output_type": "stream",
     "text": [
      "Hello World!\n"
     ]
    }
   ],
   "source": [
    "print(\"Hello World!\")"
   ]
  },
  {
   "cell_type": "code",
   "execution_count": 6,
   "id": "bf7f8ba5",
   "metadata": {},
   "outputs": [
    {
     "data": {
      "text/plain": [
       "str"
      ]
     },
     "execution_count": 6,
     "metadata": {},
     "output_type": "execute_result"
    }
   ],
   "source": [
    "type(\"Hello World\")"
   ]
  },
  {
   "cell_type": "code",
   "execution_count": 15,
   "id": "cc8f1179",
   "metadata": {},
   "outputs": [],
   "source": [
    "## Save \"Hello World\" as a variable ##"
   ]
  },
  {
   "cell_type": "code",
   "execution_count": 11,
   "id": "11717361",
   "metadata": {},
   "outputs": [
    {
     "name": "stdout",
     "output_type": "stream",
     "text": [
      "Hello World\n"
     ]
    }
   ],
   "source": [
    "msg = \"Hello World\"\n",
    "print(msg)"
   ]
  },
  {
   "cell_type": "code",
   "execution_count": 13,
   "id": "b5700ef6",
   "metadata": {},
   "outputs": [
    {
     "data": {
      "text/plain": [
       "str"
      ]
     },
     "execution_count": 13,
     "metadata": {},
     "output_type": "execute_result"
    }
   ],
   "source": [
    "type(msg)"
   ]
  },
  {
   "cell_type": "code",
   "execution_count": 43,
   "id": "df6b268c",
   "metadata": {},
   "outputs": [
    {
     "name": "stdout",
     "output_type": "stream",
     "text": [
      "JOHN NASH\n"
     ]
    },
    {
     "data": {
      "text/plain": [
       "'John Nash'"
      ]
     },
     "execution_count": 43,
     "metadata": {},
     "output_type": "execute_result"
    }
   ],
   "source": [
    "msg = \"john nash\"\n",
    "#ALL CAPS\n",
    "msg_upper = msg.upper()\n",
    "print(msg_upper)\n",
    "msg_title = msg.title()\n",
    "msg_title"
   ]
  },
  {
   "cell_type": "code",
   "execution_count": 38,
   "id": "f9b5d028",
   "metadata": {},
   "outputs": [],
   "source": [
    "#Concatenate\n",
    "\n",
    "#concatenate means to join together. You can join strings together so they form a single string. This is useful for renaming data."
   ]
  },
  {
   "cell_type": "code",
   "execution_count": 26,
   "id": "6809d54f",
   "metadata": {
    "scrolled": true
   },
   "outputs": [
    {
     "name": "stdout",
     "output_type": "stream",
     "text": [
      "A\n"
     ]
    }
   ],
   "source": [
    "print(\"A\")"
   ]
  },
  {
   "cell_type": "code",
   "execution_count": 29,
   "id": "e55ab5b5",
   "metadata": {},
   "outputs": [
    {
     "name": "stdout",
     "output_type": "stream",
     "text": [
      "B\n"
     ]
    }
   ],
   "source": [
    "print(\"B\")"
   ]
  },
  {
   "cell_type": "code",
   "execution_count": 32,
   "id": "6cf3f52e",
   "metadata": {},
   "outputs": [
    {
     "name": "stdout",
     "output_type": "stream",
     "text": [
      "AB\n"
     ]
    }
   ],
   "source": [
    "print(\"A\" + \"B\")"
   ]
  },
  {
   "cell_type": "code",
   "execution_count": 45,
   "id": "891453ae",
   "metadata": {
    "scrolled": true
   },
   "outputs": [
    {
     "name": "stdout",
     "output_type": "stream",
     "text": [
      "AB\n"
     ]
    }
   ],
   "source": [
    "a = \"A\"\n",
    "b = \"B\"\n",
    "print(a + b)"
   ]
  },
  {
   "cell_type": "code",
   "execution_count": 48,
   "id": "e06fb2e7",
   "metadata": {},
   "outputs": [
    {
     "name": "stdout",
     "output_type": "stream",
     "text": [
      "You thought it would be easyYou thought it wouldn't be strangeBut then you started codingThings never were the same\n"
     ]
    }
   ],
   "source": [
    "line1 = \"You thought it would be easy\"\n",
    "line2 = \"You thought it wouldn't be strange\"\n",
    "line3 = \"But then you started coding\"\n",
    "line4 = \"Things never were the same\"\n",
    "print(line1 + line2 + line3 + line4)"
   ]
  },
  {
   "cell_type": "code",
   "execution_count": 50,
   "id": "a0628079",
   "metadata": {},
   "outputs": [
    {
     "name": "stdout",
     "output_type": "stream",
     "text": [
      "You thought it would be easy You thought it wouldn't be strange But then you started coding Things never were the same\n"
     ]
    }
   ],
   "source": [
    "print(line1 + \" \" + line2 + \" \" + line3 + \" \" + line4)"
   ]
  },
  {
   "cell_type": "code",
   "execution_count": 61,
   "id": "2db34704",
   "metadata": {},
   "outputs": [
    {
     "name": "stdout",
     "output_type": "stream",
     "text": [
      "You thought it would be easy\n",
      "You thought it wouldn't be strange\n"
     ]
    }
   ],
   "source": [
    " print (line1 + \"\\n\" + line2)\n"
   ]
  },
  {
   "cell_type": "code",
   "execution_count": 65,
   "id": "5d9a1ada",
   "metadata": {},
   "outputs": [
    {
     "name": "stdout",
     "output_type": "stream",
     "text": [
      "1\n",
      "2\n",
      "3\n",
      "4\n",
      "You thought it would be easy\n",
      "You thought it wouldn't be strange\n",
      "But then you started coding\n",
      "Things never were the same\n"
     ]
    }
   ],
   "source": [
    "#create a new line with \"\\n\"\n",
    "#print(line1 + \"\\n\")\n",
    "# Use sep = \"string\" to insert string between each object passed to print\n",
    "print(1,2,3,4,sep = \"\\n\")\n",
    "print (line1, line2, line3, line4, sep = \"\\n\")"
   ]
  },
  {
   "cell_type": "code",
   "execution_count": 68,
   "id": "7ca893a2",
   "metadata": {},
   "outputs": [],
   "source": [
    "## Quotes within quotes\n",
    "\n"
   ]
  },
  {
   "cell_type": "code",
   "execution_count": 75,
   "id": "0dc59cfd",
   "metadata": {},
   "outputs": [
    {
     "name": "stdout",
     "output_type": "stream",
     "text": [
      "\"\n"
     ]
    }
   ],
   "source": [
    "print(\"\\\"\")"
   ]
  },
  {
   "cell_type": "code",
   "execution_count": 76,
   "id": "f4a54dc4",
   "metadata": {},
   "outputs": [
    {
     "name": "stdout",
     "output_type": "stream",
     "text": [
      "\"\n"
     ]
    }
   ],
   "source": [
    "print('\"')"
   ]
  },
  {
   "cell_type": "code",
   "execution_count": 78,
   "id": "9d557975",
   "metadata": {},
   "outputs": [],
   "source": [
    "# More String Methods"
   ]
  },
  {
   "cell_type": "code",
   "execution_count": 86,
   "id": "4a3dbbb3",
   "metadata": {},
   "outputs": [
    {
     "name": "stdout",
     "output_type": "stream",
     "text": [
      "           Look at all the spaces in the text!      \n",
      "Look at all the spaces in the text!      \n",
      "           Look at all the spaces in the text!\n",
      "Look at all the spaces in the text!\n"
     ]
    }
   ],
   "source": [
    "spaces = \"           Look at all the spaces in the text!      \"\n",
    "print(spaces)\n",
    "print(spaces.lstrip())\n",
    "print(spaces.rstrip())\n",
    "print(spaces.strip())\n",
    "# Note that you need parenthesis in specific places for the function to read correctly.\n"
   ]
  },
  {
   "cell_type": "code",
   "execution_count": 92,
   "id": "7c49abb1",
   "metadata": {},
   "outputs": [
    {
     "name": "stdout",
     "output_type": "stream",
     "text": [
      "Lookatallthespacesinthetext!\n",
      " Look at all the spaces in the text!\n"
     ]
    }
   ],
   "source": [
    "print(spaces.replace(\" \",\"\"))\n",
    "print(spaces.replace(\"  \",\"\"))\n",
    "#note bottom still has spaces shorter than 1 space allowed"
   ]
  },
  {
   "cell_type": "code",
   "execution_count": 94,
   "id": "20059fbd",
   "metadata": {},
   "outputs": [],
   "source": [
    "# Working with Numbers"
   ]
  },
  {
   "cell_type": "code",
   "execution_count": 97,
   "id": "57553f4f",
   "metadata": {},
   "outputs": [
    {
     "name": "stdout",
     "output_type": "stream",
     "text": [
      "1 1.0\n"
     ]
    }
   ],
   "source": [
    "print(1, 1.)"
   ]
  },
  {
   "cell_type": "code",
   "execution_count": 103,
   "id": "c7c596ed",
   "metadata": {},
   "outputs": [
    {
     "name": "stdout",
     "output_type": "stream",
     "text": [
      "<class 'int'> <class 'float'> <class 'str'>\n",
      "1 1.0 1.\n"
     ]
    }
   ],
   "source": [
    "int1 = 1\n",
    "float1 = 1.\n",
    "str1 = \"1.\"\n",
    "print(type(int1), type(float1), type(str1))\n",
    "print(int1, float1, str1)\n",
    "#conputer interprets integer as classic number, float as a rounded number with decimals, and string as purely text"
   ]
  },
  {
   "cell_type": "code",
   "execution_count": 106,
   "id": "5a7c083c",
   "metadata": {},
   "outputs": [
    {
     "name": "stdout",
     "output_type": "stream",
     "text": [
      "<class 'int'> 2\n"
     ]
    }
   ],
   "source": [
    "int2 = int1 + int1\n",
    "print(type(int2),int2)\n"
   ]
  },
  {
   "cell_type": "code",
   "execution_count": 109,
   "id": "89e75668",
   "metadata": {},
   "outputs": [
    {
     "name": "stdout",
     "output_type": "stream",
     "text": [
      "<class 'float'> 2.0\n"
     ]
    }
   ],
   "source": [
    "float2 = int1 + float1\n",
    "print(type(float2), float2)\n",
    "#defaults to making float when an integer is added to a float\n"
   ]
  },
  {
   "cell_type": "code",
   "execution_count": 110,
   "id": "6c5e7be2",
   "metadata": {},
   "outputs": [],
   "source": [
    "#If you attempt to sum int or float with string, error results"
   ]
  },
  {
   "cell_type": "code",
   "execution_count": 112,
   "id": "6ea96d69",
   "metadata": {},
   "outputs": [
    {
     "ename": "TypeError",
     "evalue": "unsupported operand type(s) for +: 'int' and 'str'",
     "output_type": "error",
     "traceback": [
      "\u001b[1;31m---------------------------------------------------------------------------\u001b[0m",
      "\u001b[1;31mTypeError\u001b[0m                                 Traceback (most recent call last)",
      "\u001b[1;32m~\\AppData\\Local\\Temp\\ipykernel_10296\\2008865251.py\u001b[0m in \u001b[0;36m<module>\u001b[1;34m\u001b[0m\n\u001b[1;32m----> 1\u001b[1;33m \u001b[0mint1\u001b[0m \u001b[1;33m+\u001b[0m \u001b[0mstr1\u001b[0m\u001b[1;33m\u001b[0m\u001b[1;33m\u001b[0m\u001b[0m\n\u001b[0m",
      "\u001b[1;31mTypeError\u001b[0m: unsupported operand type(s) for +: 'int' and 'str'"
     ]
    }
   ],
   "source": [
    "int1 + str1\n"
   ]
  },
  {
   "cell_type": "code",
   "execution_count": 114,
   "id": "af1aca47",
   "metadata": {},
   "outputs": [],
   "source": [
    "## transform value to string"
   ]
  },
  {
   "cell_type": "code",
   "execution_count": 117,
   "id": "566f3901",
   "metadata": {},
   "outputs": [
    {
     "data": {
      "text/plain": [
       "'11.'"
      ]
     },
     "execution_count": 117,
     "metadata": {},
     "output_type": "execute_result"
    }
   ],
   "source": [
    "str11 = str(int1) + str1\n",
    "str11"
   ]
  },
  {
   "cell_type": "code",
   "execution_count": 119,
   "id": "fe1c31b4",
   "metadata": {},
   "outputs": [
    {
     "data": {
      "text/plain": [
       "'1.01.'"
      ]
     },
     "execution_count": 119,
     "metadata": {},
     "output_type": "execute_result"
    }
   ],
   "source": [
    "str11 = str(float1) + str1\n",
    "str11"
   ]
  },
  {
   "cell_type": "code",
   "execution_count": 123,
   "id": "8c9c976a",
   "metadata": {},
   "outputs": [
    {
     "name": "stdout",
     "output_type": "stream",
     "text": [
      "0\n",
      "01\n",
      "012\n",
      "0123\n",
      "01234\n",
      "012345\n",
      "0123456\n",
      "01234567\n",
      "012345678\n",
      "0123456789\n",
      "012345678910\n",
      "01234567891011\n",
      "0123456789101112\n",
      "012345678910111213\n",
      "01234567891011121314\n",
      "0123456789101112131415\n",
      "012345678910111213141516\n",
      "01234567891011121314151617\n",
      "0123456789101112131415161718\n",
      "012345678910111213141516171819\n"
     ]
    }
   ],
   "source": [
    "total = \"\"\n",
    "for i in range(20):\n",
    "    total = total + str(i)\n",
    "    print(total)"
   ]
  }
 ],
 "metadata": {
  "kernelspec": {
   "display_name": "Python 3 (ipykernel)",
   "language": "python",
   "name": "python3"
  },
  "language_info": {
   "codemirror_mode": {
    "name": "ipython",
    "version": 3
   },
   "file_extension": ".py",
   "mimetype": "text/x-python",
   "name": "python",
   "nbconvert_exporter": "python",
   "pygments_lexer": "ipython3",
   "version": "3.9.13"
  }
 },
 "nbformat": 4,
 "nbformat_minor": 5
}

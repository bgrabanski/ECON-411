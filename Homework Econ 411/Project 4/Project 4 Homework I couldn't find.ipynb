{
 "cells": [
  {
   "cell_type": "code",
   "execution_count": 12,
   "id": "e9886e2c",
   "metadata": {},
   "outputs": [
    {
     "data": {
      "text/plain": [
       "{'Ray Grabanski': {'Employer': 'Progressive Ag',\n",
       "  'Title': 'Head Analyst and Trader',\n",
       "  'Fun Fact': 'I broke my nose batting in high school'},\n",
       " 'Brian Strommen': {'Employer': 'Progressive Ag',\n",
       "  'Title': 'Broker',\n",
       "  'Fun Fact': 'Raises Cattle'},\n",
       " 'Henry S': {'Employer': 'Progressive Ag',\n",
       "  'Title': 'Intern',\n",
       "  'Fun Fact': 'Played Baseball in College'},\n",
       " 'Bryce Grabanski': {'Employer': 'DGI',\n",
       "  'Title': 'Summer Analyst',\n",
       "  'Fun Fact': \"I code for fun in James Caton's Class\"}}"
      ]
     },
     "execution_count": 12,
     "metadata": {},
     "output_type": "execute_result"
    }
   ],
   "source": [
    "List_of_people = {\"Ray Grabanski\":{\"Employer\":\"Progressive Ag\", \"Title\": \"Head Analyst and Trader\", \"Fun Fact\":\"I broke my nose batting in high school\"},\n",
    "          \n",
    "                  \"Brian Strommen\":{\"Employer\":\"Progressive Ag\", \"Title\": \"Broker\", \"Fun Fact\":\"Raises Cattle\"},\n",
    "                  \"Henry S\":{\"Employer\":\"Progressive Ag\", \"Title\": \"Intern\", \"Fun Fact\":\"Played Baseball in College\"},\n",
    "                  \"Bryce Grabanski\":{\"Employer\":\"DGI\", \"Title\": \"Summer Analyst\", \"Fun Fact\":\"I code for fun in James Caton's Class\"}\n",
    "                 }\n",
    "List_of_people"
   ]
  },
  {
   "cell_type": "code",
   "execution_count": 13,
   "id": "766c714d",
   "metadata": {},
   "outputs": [],
   "source": [
    "import pandas as pd\n",
    "List_ = pd.DataFrame(List_of_people)"
   ]
  },
  {
   "cell_type": "code",
   "execution_count": 14,
   "id": "239bb67e",
   "metadata": {},
   "outputs": [
    {
     "data": {
      "text/html": [
       "<div>\n",
       "<style scoped>\n",
       "    .dataframe tbody tr th:only-of-type {\n",
       "        vertical-align: middle;\n",
       "    }\n",
       "\n",
       "    .dataframe tbody tr th {\n",
       "        vertical-align: top;\n",
       "    }\n",
       "\n",
       "    .dataframe thead th {\n",
       "        text-align: right;\n",
       "    }\n",
       "</style>\n",
       "<table border=\"1\" class=\"dataframe\">\n",
       "  <thead>\n",
       "    <tr style=\"text-align: right;\">\n",
       "      <th></th>\n",
       "      <th>Ray Grabanski</th>\n",
       "      <th>Brian Strommen</th>\n",
       "      <th>Henry S</th>\n",
       "      <th>Bryce Grabanski</th>\n",
       "    </tr>\n",
       "  </thead>\n",
       "  <tbody>\n",
       "    <tr>\n",
       "      <th>Employer</th>\n",
       "      <td>Progressive Ag</td>\n",
       "      <td>Progressive Ag</td>\n",
       "      <td>Progressive Ag</td>\n",
       "      <td>DGI</td>\n",
       "    </tr>\n",
       "    <tr>\n",
       "      <th>Title</th>\n",
       "      <td>Head Analyst and Trader</td>\n",
       "      <td>Broker</td>\n",
       "      <td>Intern</td>\n",
       "      <td>Summer Analyst</td>\n",
       "    </tr>\n",
       "    <tr>\n",
       "      <th>Fun Fact</th>\n",
       "      <td>I broke my nose batting in high school</td>\n",
       "      <td>Raises Cattle</td>\n",
       "      <td>Played Baseball in College</td>\n",
       "      <td>I code for fun in James Caton's Class</td>\n",
       "    </tr>\n",
       "  </tbody>\n",
       "</table>\n",
       "</div>"
      ],
      "text/plain": [
       "                                   Ray Grabanski  Brian Strommen  \\\n",
       "Employer                          Progressive Ag  Progressive Ag   \n",
       "Title                    Head Analyst and Trader          Broker   \n",
       "Fun Fact  I broke my nose batting in high school   Raises Cattle   \n",
       "\n",
       "                             Henry S                        Bryce Grabanski  \n",
       "Employer              Progressive Ag                                    DGI  \n",
       "Title                         Intern                         Summer Analyst  \n",
       "Fun Fact  Played Baseball in College  I code for fun in James Caton's Class  "
      ]
     },
     "execution_count": 14,
     "metadata": {},
     "output_type": "execute_result"
    }
   ],
   "source": [
    "List_"
   ]
  }
 ],
 "metadata": {
  "kernelspec": {
   "display_name": "Python 3 (ipykernel)",
   "language": "python",
   "name": "python3"
  },
  "language_info": {
   "codemirror_mode": {
    "name": "ipython",
    "version": 3
   },
   "file_extension": ".py",
   "mimetype": "text/x-python",
   "name": "python",
   "nbconvert_exporter": "python",
   "pygments_lexer": "ipython3",
   "version": "3.9.13"
  }
 },
 "nbformat": 4,
 "nbformat_minor": 5
}

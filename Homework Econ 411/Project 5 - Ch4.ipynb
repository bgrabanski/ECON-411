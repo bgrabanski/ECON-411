{
 "cells": [
  {
   "cell_type": "markdown",
   "id": "cebde605",
   "metadata": {},
   "source": [
    "# Chapter 4: Functional Programming: Rudimentary Statistics and Analytics"
   ]
  },
  {
   "cell_type": "markdown",
   "id": "2e552b0f",
   "metadata": {},
   "source": [
    "## Building a function"
   ]
  },
  {
   "cell_type": "code",
   "execution_count": 2,
   "id": "35bd6e0c",
   "metadata": {},
   "outputs": [
    {
     "ename": "SyntaxError",
     "evalue": "invalid syntax (3791530785.py, line 2)",
     "output_type": "error",
     "traceback": [
      "\u001b[1;36m  File \u001b[1;32m\"C:\\Users\\Bryce Grabanski\\AppData\\Local\\Temp\\ipykernel_16640\\3791530785.py\"\u001b[1;36m, line \u001b[1;32m2\u001b[0m\n\u001b[1;33m    <operations>\u001b[0m\n\u001b[1;37m    ^\u001b[0m\n\u001b[1;31mSyntaxError\u001b[0m\u001b[1;31m:\u001b[0m invalid syntax\n"
     ]
    }
   ],
   "source": [
    "def function_name(object1, object2, objectn):\n",
    "    <operations>"
   ]
  },
  {
   "cell_type": "markdown",
   "id": "c42e1772",
   "metadata": {},
   "source": [
    "### Total\n",
    "\n",
    "$\\sum_{i=0}^{n-1} x_{i}$"
   ]
  },
  {
   "cell_type": "code",
   "execution_count": 16,
   "id": "670b7152",
   "metadata": {},
   "outputs": [
    {
     "name": "stdout",
     "output_type": "stream",
     "text": [
      "total\t value\n",
      "0 \t 0\n",
      "1 \t 1\n",
      "3 \t 2\n",
      "6 \t 3\n",
      "10 \t 4\n",
      "15 \t 5\n",
      "21 \t 6\n",
      "28 \t 7\n",
      "36 \t 8\n",
      "45 \t 9\n",
      "55 \t 10\n",
      "66 \t 11\n",
      "78 \t 12\n",
      "91 \t 13\n",
      "105 \t 14\n",
      "120 \t 15\n",
      "136 \t 16\n",
      "153 \t 17\n",
      "171 \t 18\n",
      "190 \t 19\n",
      "210 \t 20\n",
      "231 \t 21\n",
      "253 \t 22\n",
      "276 \t 23\n",
      "300 \t 24\n",
      "325 \t 25\n",
      "351 \t 26\n",
      "378 \t 27\n",
      "406 \t 28\n",
      "435 \t 29\n",
      "465 \t 30\n",
      "496 \t 31\n",
      "528 \t 32\n",
      "561 \t 33\n",
      "595 \t 34\n",
      "630 \t 35\n",
      "666 \t 36\n",
      "703 \t 37\n",
      "741 \t 38\n",
      "780 \t 39\n",
      "820 \t 40\n",
      "861 \t 41\n",
      "903 \t 42\n",
      "946 \t 43\n",
      "990 \t 44\n",
      "1035 \t 45\n",
      "1081 \t 46\n",
      "1128 \t 47\n",
      "1176 \t 48\n",
      "1225 \t 49\n",
      "1275 \t 50\n",
      "1326 \t 51\n",
      "1378 \t 52\n",
      "1431 \t 53\n",
      "1485 \t 54\n",
      "1540 \t 55\n",
      "1596 \t 56\n",
      "1653 \t 57\n",
      "1711 \t 58\n",
      "1770 \t 59\n",
      "1830 \t 60\n",
      "1891 \t 61\n",
      "1953 \t 62\n",
      "2016 \t 63\n",
      "2080 \t 64\n",
      "2145 \t 65\n",
      "2211 \t 66\n",
      "2278 \t 67\n",
      "2346 \t 68\n",
      "2415 \t 69\n",
      "2485 \t 70\n",
      "2556 \t 71\n",
      "2628 \t 72\n",
      "2701 \t 73\n",
      "2775 \t 74\n",
      "2850 \t 75\n",
      "2926 \t 76\n",
      "3003 \t 77\n",
      "3081 \t 78\n",
      "3160 \t 79\n",
      "3240 \t 80\n",
      "3321 \t 81\n",
      "3403 \t 82\n",
      "3486 \t 83\n",
      "3570 \t 84\n",
      "3655 \t 85\n",
      "3741 \t 86\n",
      "3828 \t 87\n",
      "3916 \t 88\n",
      "4005 \t 89\n",
      "4095 \t 90\n",
      "4186 \t 91\n",
      "4278 \t 92\n",
      "4371 \t 93\n",
      "4465 \t 94\n",
      "4560 \t 95\n",
      "4656 \t 96\n",
      "4753 \t 97\n",
      "4851 \t 98\n",
      "4950 \t 99\n",
      "final total: 4950\n"
     ]
    }
   ],
   "source": [
    "n = 0\n",
    "total = 0\n",
    "values = [i for i in range(100)]\n",
    "\n",
    "print(\"total\\t\", \"value\")\n",
    "for value in values:\n",
    "    total += value\n",
    "    print(total, \"\\t\", value)\n",
    "\n",
    "print(\"final total:\", total)"
   ]
  },
  {
   "cell_type": "code",
   "execution_count": 24,
   "id": "21cd72f2",
   "metadata": {},
   "outputs": [
    {
     "name": "stdout",
     "output_type": "stream",
     "text": [
      "total\t value\n"
     ]
    },
    {
     "ename": "TypeError",
     "evalue": "unsupported operand type(s) for +=: 'function' and 'int'",
     "output_type": "error",
     "traceback": [
      "\u001b[1;31m---------------------------------------------------------------------------\u001b[0m",
      "\u001b[1;31mTypeError\u001b[0m                                 Traceback (most recent call last)",
      "\u001b[1;32m~\\AppData\\Local\\Temp\\ipykernel_16640\\3094174133.py\u001b[0m in \u001b[0;36m<module>\u001b[1;34m\u001b[0m\n\u001b[0;32m      2\u001b[0m \u001b[0mprint\u001b[0m\u001b[1;33m(\u001b[0m\u001b[1;34m\"total\\t\"\u001b[0m\u001b[1;33m,\u001b[0m \u001b[1;34m\"value\"\u001b[0m\u001b[1;33m)\u001b[0m\u001b[1;33m\u001b[0m\u001b[1;33m\u001b[0m\u001b[0m\n\u001b[0;32m      3\u001b[0m \u001b[1;32mfor\u001b[0m \u001b[0mvalue\u001b[0m \u001b[1;32min\u001b[0m \u001b[0mvalues\u001b[0m\u001b[1;33m:\u001b[0m\u001b[1;33m\u001b[0m\u001b[1;33m\u001b[0m\u001b[0m\n\u001b[1;32m----> 4\u001b[1;33m     \u001b[0mtotal\u001b[0m \u001b[1;33m+=\u001b[0m \u001b[0mvalue\u001b[0m\u001b[1;33m\u001b[0m\u001b[1;33m\u001b[0m\u001b[0m\n\u001b[0m\u001b[0;32m      5\u001b[0m     \u001b[0mprint\u001b[0m\u001b[1;33m(\u001b[0m\u001b[0mtotal\u001b[0m\u001b[1;33m,\u001b[0m \u001b[1;34m\"\\t\"\u001b[0m\u001b[1;33m,\u001b[0m \u001b[0mvalue\u001b[0m\u001b[1;33m)\u001b[0m\u001b[1;33m\u001b[0m\u001b[1;33m\u001b[0m\u001b[0m\n",
      "\u001b[1;31mTypeError\u001b[0m: unsupported operand type(s) for +=: 'function' and 'int'"
     ]
    }
   ],
   "source": [
    "# This is a bad idea. Don't copy and paste old code...\n",
    "print(\"total\\t\", \"value\")\n",
    "for value in values:\n",
    "    total += value\n",
    "    print(total, \"\\t\", value)"
   ]
  },
  {
   "cell_type": "code",
   "execution_count": 21,
   "id": "389f48da",
   "metadata": {},
   "outputs": [
    {
     "data": {
      "text/plain": [
       "4950"
      ]
     },
     "execution_count": 21,
     "metadata": {},
     "output_type": "execute_result"
    }
   ],
   "source": [
    "def total(lst):\n",
    "    total_ = 0\n",
    "    # in original I used the index of the list\n",
    "    # . . . \n",
    "    # n = len(lst)\n",
    "    # for i in range(n)\n",
    "    for val in lst:\n",
    "        total_ += val\n",
    "    return total_\n",
    "total(values)"
   ]
  },
  {
   "cell_type": "code",
   "execution_count": 23,
   "id": "fde75645",
   "metadata": {},
   "outputs": [
    {
     "data": {
      "text/plain": [
       "932984"
      ]
     },
     "execution_count": 23,
     "metadata": {},
     "output_type": "execute_result"
    }
   ],
   "source": [
    "# now you can just call this function whenever you need it\n",
    "total(i for i in range(-1000, 10000, 53))"
   ]
  },
  {
   "cell_type": "code",
   "execution_count": 26,
   "id": "7520b2fd",
   "metadata": {},
   "outputs": [
    {
     "ename": "TypeError",
     "evalue": "unsupported operand type(s) for +=: 'int' and 'str'",
     "output_type": "error",
     "traceback": [
      "\u001b[1;31m---------------------------------------------------------------------------\u001b[0m",
      "\u001b[1;31mTypeError\u001b[0m                                 Traceback (most recent call last)",
      "\u001b[1;32m~\\AppData\\Local\\Temp\\ipykernel_16640\\772616120.py\u001b[0m in \u001b[0;36m<module>\u001b[1;34m\u001b[0m\n\u001b[1;32m----> 1\u001b[1;33m \u001b[0mtotal\u001b[0m\u001b[1;33m(\u001b[0m\u001b[1;33m[\u001b[0m\u001b[1;34m\"a\"\u001b[0m\u001b[1;33m,\u001b[0m\u001b[1;34m\"b\"\u001b[0m\u001b[1;33m]\u001b[0m\u001b[1;33m)\u001b[0m\u001b[1;33m\u001b[0m\u001b[1;33m\u001b[0m\u001b[0m\n\u001b[0m",
      "\u001b[1;32m~\\AppData\\Local\\Temp\\ipykernel_16640\\1280547622.py\u001b[0m in \u001b[0;36mtotal\u001b[1;34m(lst)\u001b[0m\n\u001b[0;32m      2\u001b[0m     \u001b[0mtotal_\u001b[0m \u001b[1;33m=\u001b[0m \u001b[1;36m0\u001b[0m\u001b[1;33m\u001b[0m\u001b[1;33m\u001b[0m\u001b[0m\n\u001b[0;32m      3\u001b[0m     \u001b[1;32mfor\u001b[0m \u001b[0mval\u001b[0m \u001b[1;32min\u001b[0m \u001b[0mlst\u001b[0m\u001b[1;33m:\u001b[0m\u001b[1;33m\u001b[0m\u001b[1;33m\u001b[0m\u001b[0m\n\u001b[1;32m----> 4\u001b[1;33m         \u001b[0mtotal_\u001b[0m \u001b[1;33m+=\u001b[0m \u001b[0mval\u001b[0m\u001b[1;33m\u001b[0m\u001b[1;33m\u001b[0m\u001b[0m\n\u001b[0m\u001b[0;32m      5\u001b[0m     \u001b[1;32mreturn\u001b[0m \u001b[0mtotal_\u001b[0m\u001b[1;33m\u001b[0m\u001b[1;33m\u001b[0m\u001b[0m\n\u001b[0;32m      6\u001b[0m \u001b[0mtotal\u001b[0m\u001b[1;33m(\u001b[0m\u001b[0mvalues\u001b[0m\u001b[1;33m)\u001b[0m\u001b[1;33m\u001b[0m\u001b[1;33m\u001b[0m\u001b[0m\n",
      "\u001b[1;31mTypeError\u001b[0m: unsupported operand type(s) for +=: 'int' and 'str'"
     ]
    }
   ],
   "source": [
    "total([\"a\",\"b\"])"
   ]
  },
  {
   "cell_type": "code",
   "execution_count": 28,
   "id": "7c18353b",
   "metadata": {},
   "outputs": [
    {
     "data": {
      "text/plain": [
       "(165, 462)"
      ]
     },
     "execution_count": 28,
     "metadata": {},
     "output_type": "execute_result"
    }
   ],
   "source": [
    "import random\n",
    "X1 = [3, 6, 9, 12, 15,18,21,24,27,30]\n",
    "X2 = [random.randint(0,100) for i in range(10)]\n",
    "total(X1), total(X2)"
   ]
  },
  {
   "cell_type": "markdown",
   "id": "78a03c7e",
   "metadata": {},
   "source": [
    "### Mean\n",
    "\n",
    "Let $X_1, X_2,...,X_n$ represent $n$ values from a random variable. For a given dataset, useful descriptive statistics of central tendency include mean, median, and mode, which we built as functions in a previous chapter. \n",
    "\n",
    "We define the mean of a set of numbers:\n",
    "$\\bar{X} = \\frac{\\sum_{i=0}^{n-1} X_{i}} {n}$"
   ]
  },
  {
   "cell_type": "code",
   "execution_count": 33,
   "id": "b140da4f",
   "metadata": {},
   "outputs": [
    {
     "data": {
      "text/plain": [
       "(16.5, 46.2)"
      ]
     },
     "execution_count": 33,
     "metadata": {},
     "output_type": "execute_result"
    }
   ],
   "source": [
    "# Using the function created for total inside of function definition of mean\n",
    "def mean(lst):\n",
    "    n = len(lst)\n",
    "    mean_ = total(lst) / n\n",
    "    return mean_\n",
    "mean(X1), mean(X2)"
   ]
  },
  {
   "cell_type": "markdown",
   "id": "63a8ceac",
   "metadata": {},
   "source": [
    "Now let's build the rest of the summary statistical functions\n",
    "\n",
    "1. median\n",
    "2. mode\n",
    "3. variance\n",
    "4. standard deviation\n",
    "5. covariance\n",
    "6. correlation"
   ]
  },
  {
   "cell_type": "markdown",
   "id": "dfbddf4f",
   "metadata": {},
   "source": [
    "# Median"
   ]
  },
  {
   "cell_type": "code",
   "execution_count": 56,
   "id": "273f06e6",
   "metadata": {},
   "outputs": [
    {
     "data": {
      "text/plain": [
       "3.5"
      ]
     },
     "execution_count": 56,
     "metadata": {},
     "output_type": "execute_result"
    }
   ],
   "source": [
    "def median(lst):\n",
    "    n = len(lst)\n",
    "    # we need to sort the list because it's not necessarily in order\n",
    "    lst = sorted(lst)\n",
    "    \n",
    "    # two cases: \n",
    "    # 1. list of odd length\n",
    "    # i % j checks for remainder upon dividing i by j\n",
    "    if n % 2 != 0:\n",
    "        middle_index = int((n-1)/2)\n",
    "        median_ = lst[middle_index]\n",
    "    # 2. list of even length\n",
    "    else:\n",
    "        upper_middle_index = int(n/2)\n",
    "        lower_middle_index = upper_middle_index - 1\n",
    "        # pass slice with two middle values to mean()\n",
    "        median_ = mean(lst[lower_middle_index: upper_middle_index + 1])\n",
    "    return median_\n",
    "\n",
    "median([1,2,3,9,4,5])"
   ]
  },
  {
   "cell_type": "code",
   "execution_count": 59,
   "id": "6315a1ca",
   "metadata": {},
   "outputs": [
    {
     "data": {
      "text/plain": [
       "(16.5, 46.5)"
      ]
     },
     "execution_count": 59,
     "metadata": {},
     "output_type": "execute_result"
    }
   ],
   "source": [
    "\n",
    "median(X1), median(X2)"
   ]
  },
  {
   "cell_type": "code",
   "execution_count": 61,
   "id": "fe52e62e",
   "metadata": {},
   "outputs": [
    {
     "data": {
      "text/plain": [
       "15"
      ]
     },
     "execution_count": 61,
     "metadata": {},
     "output_type": "execute_result"
    }
   ],
   "source": [
    "# transform X1 to be of odd length by removing last index\n",
    "# this is to test the first case in the median() function\n",
    "median(X1[:-1])"
   ]
  },
  {
   "cell_type": "code",
   "execution_count": 62,
   "id": "b9b8fb8b",
   "metadata": {},
   "outputs": [
    {
     "data": {
      "text/plain": [
       "[5, 15, 26, 36, 43, 50, 68, 70, 73, 76]"
      ]
     },
     "execution_count": 62,
     "metadata": {},
     "output_type": "execute_result"
    }
   ],
   "source": [
    "sorted(X2)"
   ]
  },
  {
   "cell_type": "markdown",
   "id": "50f1efe9",
   "metadata": {},
   "source": [
    "# Mode\n"
   ]
  },
  {
   "cell_type": "code",
   "execution_count": 90,
   "id": "30cfacb1",
   "metadata": {},
   "outputs": [
    {
     "data": {
      "text/plain": [
       "[1, 5]"
      ]
     },
     "execution_count": 90,
     "metadata": {},
     "output_type": "execute_result"
    }
   ],
   "source": [
    "def mode(lst):\n",
    "    count_dct = {}\n",
    "    # create entries for each value with 0\n",
    "    for key in lst:\n",
    "        count_dct[key] = 0\n",
    "    # add up each occurence\n",
    "    for key in lst:\n",
    "        count_dct[key] += 1\n",
    "    \n",
    "    # calculate max_count up front\n",
    "    max_count = max(count_dct.values())\n",
    "    # now we can compare each count to the max count\n",
    "    mode_ = []\n",
    "    for key, count in count_dct.items():\n",
    "        if count == max_count:\n",
    "            mode_.append(key)\n",
    "    \n",
    "    return mode_\n",
    "\n",
    "lst = [1,1,1,1,1\n",
    "       2,3,4,5,5,5,5,5,1000,1000]\n",
    "mode(lst)"
   ]
  },
  {
   "cell_type": "markdown",
   "id": "6be07785",
   "metadata": {},
   "source": [
    "# Variance\n",
    "\n",
    "$$ \\sigma^2 = \\frac{\\sum_{i=1}^n (X_i - \\bar{X})^2}{n}$$\n",
    "\n",
    "When we are dealing with a sample, which is a subset of a population of observations, then we divide by $n - 1$, the **Degrees of Freedom**, to unbias the calculation. \n",
    "\n",
    "$$DoF = n - 1$$\n",
    "\n",
    "$$ S^2 = \\frac{\\sum_{i=1}^n (X_i - \\bar{X})^2}{n-1}$$"
   ]
  },
  {
   "cell_type": "code",
   "execution_count": 104,
   "id": "10a145d1",
   "metadata": {},
   "outputs": [
    {
     "data": {
      "text/plain": [
       "(82.5, 74.25)"
      ]
     },
     "execution_count": 104,
     "metadata": {},
     "output_type": "execute_result"
    }
   ],
   "source": [
    "def variance(lst, sample = True):\n",
    "    list_mean = mean(lst)\n",
    "    n = len(lst)\n",
    "    DoF = n - 1\n",
    "    sum_sq_diff = 0\n",
    "    \n",
    "    for val in lst:\n",
    "        diff = val - list_mean\n",
    "        # this += sign adds this to the current list\n",
    "        sum_sq_diff += (diff) ** 2\n",
    "#        print(val, list_mean, diff **2, sum_sq_diff)\n",
    "    if sample == False:\n",
    "        variance_ = sum_sq_diff / n\n",
    "    else:\n",
    "        variance_ = sum_sq_diff / DoF\n",
    "    return variance_\n",
    "    \n",
    "variance(X1, sample = True), variance(X1, sample = False)\n",
    "\n",
    "\n",
    "\n",
    "\n",
    "\n",
    "\n",
    "\n",
    "\n",
    "\n",
    "\n"
   ]
  },
  {
   "cell_type": "code",
   "execution_count": 106,
   "id": "ba191aec",
   "metadata": {},
   "outputs": [
    {
     "data": {
      "text/plain": [
       "(650.6222222222223, 585.5600000000001)"
      ]
     },
     "execution_count": 106,
     "metadata": {},
     "output_type": "execute_result"
    }
   ],
   "source": [
    "variance(X2, sample = True), variance(X2, sample = False)"
   ]
  },
  {
   "cell_type": "markdown",
   "id": "8fc0b026",
   "metadata": {},
   "source": [
    "# Standard Deviation"
   ]
  },
  {
   "cell_type": "code",
   "execution_count": 108,
   "id": "5073c1b3",
   "metadata": {},
   "outputs": [],
   "source": [
    "def SD(lst, sample = True):\n",
    "    SD_ = variance(lst, sample) ** (1/2)\n",
    "    return SD_\n"
   ]
  },
  {
   "cell_type": "code",
   "execution_count": 113,
   "id": "9aac9bc4",
   "metadata": {},
   "outputs": [
    {
     "data": {
      "text/plain": [
       "(25.507297430778948, 24.19834705098677)"
      ]
     },
     "execution_count": 113,
     "metadata": {},
     "output_type": "execute_result"
    }
   ],
   "source": [
    "SD(X2, sample = True), SD(X2, sample = False)"
   ]
  },
  {
   "cell_type": "code",
   "execution_count": 112,
   "id": "94d19775",
   "metadata": {},
   "outputs": [
    {
     "data": {
      "text/plain": [
       "(9.082951062292475, 8.616843969807043)"
      ]
     },
     "execution_count": 112,
     "metadata": {},
     "output_type": "execute_result"
    }
   ],
   "source": [
    "SD(X1, sample = True), SD(X1, sample = False)"
   ]
  }
 ],
 "metadata": {
  "kernelspec": {
   "display_name": "Python 3 (ipykernel)",
   "language": "python",
   "name": "python3"
  },
  "language_info": {
   "codemirror_mode": {
    "name": "ipython",
    "version": 3
   },
   "file_extension": ".py",
   "mimetype": "text/x-python",
   "name": "python",
   "nbconvert_exporter": "python",
   "pygments_lexer": "ipython3",
   "version": "3.9.13"
  }
 },
 "nbformat": 4,
 "nbformat_minor": 5
}

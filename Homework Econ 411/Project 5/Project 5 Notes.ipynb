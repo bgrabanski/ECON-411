{
 "cells": [
  {
   "cell_type": "markdown",
   "id": "7b09f124",
   "metadata": {},
   "source": [
    "# Chapter 4: Functional Programming: Rudimentary Statistics and Analytics"
   ]
  },
  {
   "cell_type": "markdown",
   "id": "113a4748",
   "metadata": {},
   "source": [
    "This chapter is about building functions, graphing functions, visualizing data, scatter plots, and doing light computation using our own definitions for functions"
   ]
  },
  {
   "cell_type": "markdown",
   "id": "cb46a50f",
   "metadata": {},
   "source": [
    "## Building a function"
   ]
  },
  {
   "cell_type": "code",
   "execution_count": 1,
   "id": "6fca3767",
   "metadata": {},
   "outputs": [],
   "source": [
    "#def function_name(object1, object2, objectn):\n",
    " #   <operations>"
   ]
  },
  {
   "cell_type": "markdown",
   "id": "3b71745a",
   "metadata": {},
   "source": [
    "### Total\n",
    "\n",
    "$\\sum_{i=0}^{n-1} x_{i}$"
   ]
  },
  {
   "cell_type": "code",
   "execution_count": 2,
   "id": "c9d88bf7",
   "metadata": {},
   "outputs": [
    {
     "name": "stdout",
     "output_type": "stream",
     "text": [
      "total\t value\n",
      "0 \t 0\n",
      "1 \t 1\n",
      "3 \t 2\n",
      "6 \t 3\n",
      "10 \t 4\n",
      "15 \t 5\n",
      "21 \t 6\n",
      "28 \t 7\n",
      "36 \t 8\n",
      "45 \t 9\n",
      "55 \t 10\n",
      "66 \t 11\n",
      "78 \t 12\n",
      "91 \t 13\n",
      "105 \t 14\n",
      "120 \t 15\n",
      "136 \t 16\n",
      "153 \t 17\n",
      "171 \t 18\n",
      "190 \t 19\n",
      "210 \t 20\n",
      "231 \t 21\n",
      "253 \t 22\n",
      "276 \t 23\n",
      "300 \t 24\n",
      "325 \t 25\n",
      "351 \t 26\n",
      "378 \t 27\n",
      "406 \t 28\n",
      "435 \t 29\n",
      "465 \t 30\n",
      "496 \t 31\n",
      "528 \t 32\n",
      "561 \t 33\n",
      "595 \t 34\n",
      "630 \t 35\n",
      "666 \t 36\n",
      "703 \t 37\n",
      "741 \t 38\n",
      "780 \t 39\n",
      "820 \t 40\n",
      "861 \t 41\n",
      "903 \t 42\n",
      "946 \t 43\n",
      "990 \t 44\n",
      "1035 \t 45\n",
      "1081 \t 46\n",
      "1128 \t 47\n",
      "1176 \t 48\n",
      "1225 \t 49\n",
      "1275 \t 50\n",
      "1326 \t 51\n",
      "1378 \t 52\n",
      "1431 \t 53\n",
      "1485 \t 54\n",
      "1540 \t 55\n",
      "1596 \t 56\n",
      "1653 \t 57\n",
      "1711 \t 58\n",
      "1770 \t 59\n",
      "1830 \t 60\n",
      "1891 \t 61\n",
      "1953 \t 62\n",
      "2016 \t 63\n",
      "2080 \t 64\n",
      "2145 \t 65\n",
      "2211 \t 66\n",
      "2278 \t 67\n",
      "2346 \t 68\n",
      "2415 \t 69\n",
      "2485 \t 70\n",
      "2556 \t 71\n",
      "2628 \t 72\n",
      "2701 \t 73\n",
      "2775 \t 74\n",
      "2850 \t 75\n",
      "2926 \t 76\n",
      "3003 \t 77\n",
      "3081 \t 78\n",
      "3160 \t 79\n",
      "3240 \t 80\n",
      "3321 \t 81\n",
      "3403 \t 82\n",
      "3486 \t 83\n",
      "3570 \t 84\n",
      "3655 \t 85\n",
      "3741 \t 86\n",
      "3828 \t 87\n",
      "3916 \t 88\n",
      "4005 \t 89\n",
      "4095 \t 90\n",
      "4186 \t 91\n",
      "4278 \t 92\n",
      "4371 \t 93\n",
      "4465 \t 94\n",
      "4560 \t 95\n",
      "4656 \t 96\n",
      "4753 \t 97\n",
      "4851 \t 98\n",
      "4950 \t 99\n",
      "final total: 4950\n"
     ]
    }
   ],
   "source": [
    "n = 0\n",
    "total = 0\n",
    "values = [i for i in range(100)]\n",
    "\n",
    "print(\"total\\t\", \"value\")\n",
    "for value in values:\n",
    "    total += value\n",
    "    print(total, \"\\t\", value)\n",
    "\n",
    "print(\"final total:\", total)"
   ]
  },
  {
   "cell_type": "code",
   "execution_count": 3,
   "id": "fa8a0115",
   "metadata": {},
   "outputs": [
    {
     "name": "stdout",
     "output_type": "stream",
     "text": [
      "total\t value\n",
      "0 \t 0\n",
      "1 \t 1\n",
      "3 \t 2\n",
      "6 \t 3\n",
      "10 \t 4\n",
      "15 \t 5\n",
      "21 \t 6\n",
      "28 \t 7\n",
      "36 \t 8\n",
      "45 \t 9\n",
      "55 \t 10\n",
      "66 \t 11\n",
      "78 \t 12\n",
      "91 \t 13\n",
      "105 \t 14\n",
      "120 \t 15\n",
      "136 \t 16\n",
      "153 \t 17\n",
      "171 \t 18\n",
      "190 \t 19\n",
      "210 \t 20\n",
      "231 \t 21\n",
      "253 \t 22\n",
      "276 \t 23\n",
      "300 \t 24\n",
      "325 \t 25\n",
      "351 \t 26\n",
      "378 \t 27\n",
      "406 \t 28\n",
      "435 \t 29\n",
      "465 \t 30\n",
      "496 \t 31\n",
      "528 \t 32\n",
      "561 \t 33\n",
      "595 \t 34\n",
      "630 \t 35\n",
      "666 \t 36\n",
      "703 \t 37\n",
      "741 \t 38\n",
      "780 \t 39\n",
      "820 \t 40\n",
      "861 \t 41\n",
      "903 \t 42\n",
      "946 \t 43\n",
      "990 \t 44\n",
      "1035 \t 45\n",
      "1081 \t 46\n",
      "1128 \t 47\n",
      "1176 \t 48\n",
      "1225 \t 49\n",
      "1275 \t 50\n",
      "1326 \t 51\n",
      "1378 \t 52\n",
      "1431 \t 53\n",
      "1485 \t 54\n",
      "1540 \t 55\n",
      "1596 \t 56\n",
      "1653 \t 57\n",
      "1711 \t 58\n",
      "1770 \t 59\n",
      "1830 \t 60\n",
      "1891 \t 61\n",
      "1953 \t 62\n",
      "2016 \t 63\n",
      "2080 \t 64\n",
      "2145 \t 65\n",
      "2211 \t 66\n",
      "2278 \t 67\n",
      "2346 \t 68\n",
      "2415 \t 69\n",
      "2485 \t 70\n",
      "2556 \t 71\n",
      "2628 \t 72\n",
      "2701 \t 73\n",
      "2775 \t 74\n",
      "2850 \t 75\n",
      "2926 \t 76\n",
      "3003 \t 77\n",
      "3081 \t 78\n",
      "3160 \t 79\n",
      "3240 \t 80\n",
      "3321 \t 81\n",
      "3403 \t 82\n",
      "3486 \t 83\n",
      "3570 \t 84\n",
      "3655 \t 85\n",
      "3741 \t 86\n",
      "3828 \t 87\n",
      "3916 \t 88\n",
      "4005 \t 89\n",
      "4095 \t 90\n",
      "4186 \t 91\n",
      "4278 \t 92\n",
      "4371 \t 93\n",
      "4465 \t 94\n",
      "4560 \t 95\n",
      "4656 \t 96\n",
      "4753 \t 97\n",
      "4851 \t 98\n",
      "4950 \t 99\n"
     ]
    }
   ],
   "source": [
    "# This is a bad idea. Don't copy and paste old code...\n",
    "print(\"total\\t\", \"value\")\n",
    "total_ = 0\n",
    "for value in values:\n",
    "    total_ += value\n",
    "    print(total_, \"\\t\", value)\n",
    "    \n",
    "# while this strategy works, there is little efficiency in this, and you \n",
    "# will waste a lot of time going though and putting down the same code as before\n",
    "# instead, we can store functions just like we can store integers, and this\n",
    "# allows us to make a more efficient system of computation\n",
    "    \n",
    "    "
   ]
  },
  {
   "cell_type": "code",
   "execution_count": 9,
   "id": "d0df67d2",
   "metadata": {},
   "outputs": [
    {
     "data": {
      "text/plain": [
       "4950"
      ]
     },
     "execution_count": 9,
     "metadata": {},
     "output_type": "execute_result"
    }
   ],
   "source": [
    "def total(lst):\n",
    "    total_ = 0\n",
    "    # in original I used the index of the list\n",
    "    # . . . \n",
    "    # n = len(lst)\n",
    "    # for i in range(n)\n",
    "    \n",
    "    \n",
    "    # this function uses the value in list, then adds that value as\n",
    "    # it goes into one storage unit\n",
    "    for val in lst:\n",
    "        total_ += val\n",
    "    return total_\n",
    "total(values)"
   ]
  },
  {
   "cell_type": "code",
   "execution_count": 11,
   "id": "82c08c6e",
   "metadata": {},
   "outputs": [
    {
     "data": {
      "text/plain": [
       "932984"
      ]
     },
     "execution_count": 11,
     "metadata": {},
     "output_type": "execute_result"
    }
   ],
   "source": [
    "# now you can just call this function whenever you need it\n",
    "total(i for i in range(-1000, 10000, 53))"
   ]
  },
  {
   "cell_type": "code",
   "execution_count": 10,
   "id": "dabef51f",
   "metadata": {},
   "outputs": [
    {
     "ename": "TypeError",
     "evalue": "unsupported operand type(s) for +=: 'int' and 'str'",
     "output_type": "error",
     "traceback": [
      "\u001b[1;31m---------------------------------------------------------------------------\u001b[0m",
      "\u001b[1;31mTypeError\u001b[0m                                 Traceback (most recent call last)",
      "\u001b[1;32m~\\AppData\\Local\\Temp\\ipykernel_17424\\880476594.py\u001b[0m in \u001b[0;36m<module>\u001b[1;34m\u001b[0m\n\u001b[0;32m      3\u001b[0m \u001b[1;31m# below is an error based on trying to take the total of a string\u001b[0m\u001b[1;33m\u001b[0m\u001b[1;33m\u001b[0m\u001b[0m\n\u001b[0;32m      4\u001b[0m \u001b[1;33m\u001b[0m\u001b[0m\n\u001b[1;32m----> 5\u001b[1;33m \u001b[0mtotal\u001b[0m\u001b[1;33m(\u001b[0m\u001b[1;33m[\u001b[0m\u001b[1;34m\"a\"\u001b[0m\u001b[1;33m,\u001b[0m\u001b[1;34m\"b\"\u001b[0m\u001b[1;33m]\u001b[0m\u001b[1;33m)\u001b[0m\u001b[1;33m\u001b[0m\u001b[1;33m\u001b[0m\u001b[0m\n\u001b[0m",
      "\u001b[1;32m~\\AppData\\Local\\Temp\\ipykernel_17424\\909177599.py\u001b[0m in \u001b[0;36mtotal\u001b[1;34m(lst)\u001b[0m\n\u001b[0;32m     10\u001b[0m     \u001b[1;31m# it goes into one storage unit\u001b[0m\u001b[1;33m\u001b[0m\u001b[1;33m\u001b[0m\u001b[0m\n\u001b[0;32m     11\u001b[0m     \u001b[1;32mfor\u001b[0m \u001b[0mval\u001b[0m \u001b[1;32min\u001b[0m \u001b[0mlst\u001b[0m\u001b[1;33m:\u001b[0m\u001b[1;33m\u001b[0m\u001b[1;33m\u001b[0m\u001b[0m\n\u001b[1;32m---> 12\u001b[1;33m         \u001b[0mtotal_\u001b[0m \u001b[1;33m+=\u001b[0m \u001b[0mval\u001b[0m\u001b[1;33m\u001b[0m\u001b[1;33m\u001b[0m\u001b[0m\n\u001b[0m\u001b[0;32m     13\u001b[0m     \u001b[1;32mreturn\u001b[0m \u001b[0mtotal_\u001b[0m\u001b[1;33m\u001b[0m\u001b[1;33m\u001b[0m\u001b[0m\n\u001b[0;32m     14\u001b[0m \u001b[0mtotal\u001b[0m\u001b[1;33m(\u001b[0m\u001b[0mvalues\u001b[0m\u001b[1;33m)\u001b[0m\u001b[1;33m\u001b[0m\u001b[1;33m\u001b[0m\u001b[0m\n",
      "\u001b[1;31mTypeError\u001b[0m: unsupported operand type(s) for +=: 'int' and 'str'"
     ]
    }
   ],
   "source": [
    "# building a function will not prevent errors. They still occur because of \n",
    "# invalid values, incorrect formatting, and wrong data type. \n",
    "# below is an error based on trying to take the total of a string\n",
    "\n",
    "#total([\"a\",\"b\"])"
   ]
  },
  {
   "cell_type": "code",
   "execution_count": 12,
   "id": "c0a1a05a",
   "metadata": {},
   "outputs": [
    {
     "data": {
      "text/plain": [
       "(165, 390)"
      ]
     },
     "execution_count": 12,
     "metadata": {},
     "output_type": "execute_result"
    }
   ],
   "source": [
    "import random\n",
    "X1 = [3, 6, 9, 12, 15,18,21,24,27,30]\n",
    "X2 = [random.randint(0,100) for i in range(10)]\n",
    "total(X1), total(X2)"
   ]
  },
  {
   "cell_type": "markdown",
   "id": "ffad2c79",
   "metadata": {},
   "source": [
    "### Mean\n",
    "\n",
    "Let $X_1, X_2,...,X_n$ represent $n$ values from a random variable. For a given dataset, useful descriptive statistics of central tendency include mean, median, and mode, which we built as functions in a previous chapter. \n",
    "\n",
    "We define the mean of a set of numbers:\n",
    "$\\bar{X} = \\frac{\\sum_{i=0}^{n-1} X_{i}} {n}$"
   ]
  },
  {
   "cell_type": "code",
   "execution_count": 14,
   "id": "75a630c4",
   "metadata": {},
   "outputs": [
    {
     "data": {
      "text/plain": [
       "(16.5, 39.0)"
      ]
     },
     "execution_count": 14,
     "metadata": {},
     "output_type": "execute_result"
    }
   ],
   "source": [
    "# Using the function created for total inside of function definition of mean\n",
    "def mean(lst):\n",
    "    n = len(lst)\n",
    "    mean_ = total(lst) / n\n",
    "    return mean_\n",
    "mean(X1), mean(X2)"
   ]
  },
  {
   "cell_type": "markdown",
   "id": "6cb04f87",
   "metadata": {},
   "source": [
    "Now let's build the rest of the summary statistical functions\n",
    "\n",
    "1. median\n",
    "2. mode\n",
    "3. variance\n",
    "4. standard deviation\n",
    "5. covariance\n",
    "6. correlation"
   ]
  },
  {
   "cell_type": "markdown",
   "id": "ca73ec4d",
   "metadata": {},
   "source": [
    "# Median"
   ]
  },
  {
   "cell_type": "code",
   "execution_count": 15,
   "id": "4ddf6365",
   "metadata": {},
   "outputs": [
    {
     "data": {
      "text/plain": [
       "3.5"
      ]
     },
     "execution_count": 15,
     "metadata": {},
     "output_type": "execute_result"
    }
   ],
   "source": [
    "def median(lst):\n",
    "    n = len(lst)\n",
    "    # we need to sort the list because it's not necessarily in order\n",
    "    # this prevents large datasets that aren't ordered correctly from\n",
    "    # returning the wrong value. \n",
    "    lst = sorted(lst)\n",
    "    \n",
    "    # two cases: \n",
    "    # 1. list of odd length\n",
    "    # i % j checks for remainder upon dividing i by j\n",
    "    if n % 2 != 0:\n",
    "        middle_index = int((n-1)/2)\n",
    "        median_ = lst[middle_index]\n",
    "    # 2. list of even length\n",
    "    else:\n",
    "        upper_middle_index = int(n/2)\n",
    "        lower_middle_index = upper_middle_index - 1\n",
    "        # pass slice with two middle values to mean()\n",
    "        median_ = mean(lst[lower_middle_index: upper_middle_index + 1])\n",
    "    return median_\n",
    "\n",
    "median([1,2,3,9,4,5])"
   ]
  },
  {
   "cell_type": "code",
   "execution_count": 16,
   "id": "a26e4100",
   "metadata": {},
   "outputs": [
    {
     "data": {
      "text/plain": [
       "(16.5, 30.0)"
      ]
     },
     "execution_count": 16,
     "metadata": {},
     "output_type": "execute_result"
    }
   ],
   "source": [
    "\n",
    "median(X1), median(X2)"
   ]
  },
  {
   "cell_type": "code",
   "execution_count": 17,
   "id": "f05befe8",
   "metadata": {},
   "outputs": [
    {
     "data": {
      "text/plain": [
       "15"
      ]
     },
     "execution_count": 17,
     "metadata": {},
     "output_type": "execute_result"
    }
   ],
   "source": [
    "# transform X1 to be of odd length by removing last index\n",
    "# this is to test the first case in the median() function\n",
    "median(X1[:-1])"
   ]
  },
  {
   "cell_type": "code",
   "execution_count": 18,
   "id": "6d45ee51",
   "metadata": {},
   "outputs": [
    {
     "data": {
      "text/plain": [
       "[6, 8, 19, 23, 24, 36, 52, 53, 77, 92]"
      ]
     },
     "execution_count": 18,
     "metadata": {},
     "output_type": "execute_result"
    }
   ],
   "source": [
    "sorted(X2)"
   ]
  },
  {
   "cell_type": "markdown",
   "id": "356696ac",
   "metadata": {},
   "source": [
    "# Mode\n"
   ]
  },
  {
   "cell_type": "code",
   "execution_count": 20,
   "id": "6a6352c4",
   "metadata": {},
   "outputs": [
    {
     "data": {
      "text/plain": [
       "[1, 5]"
      ]
     },
     "execution_count": 20,
     "metadata": {},
     "output_type": "execute_result"
    }
   ],
   "source": [
    "def mode(lst):\n",
    "    count_dct = {}\n",
    "    # create entries for each value with 0\n",
    "    for key in lst:\n",
    "        count_dct[key] = 0\n",
    "    # add up each occurence\n",
    "    for key in lst:\n",
    "        count_dct[key] += 1\n",
    "    \n",
    "    \n",
    "    # this is tricky because we need to be able to hold multiple values for mode\n",
    "    # to do this, we need to use a methodology to find the max count of \n",
    "    # the values, and then add any that occur an equal number of times to a \n",
    "    # list using append\n",
    "    \n",
    "    # calculate max_count up front\n",
    "    max_count = max(count_dct.values())\n",
    "    # now we can compare each count to the max count\n",
    "    mode_ = []\n",
    "    for key, count in count_dct.items():\n",
    "        if count == max_count:\n",
    "            mode_.append(key)\n",
    "    \n",
    "    return mode_\n",
    "\n",
    "lst = [1,1,1,1,1, 2,3,4,5,5,5,5,5,1000,1000]\n",
    "mode(lst)"
   ]
  },
  {
   "cell_type": "markdown",
   "id": "6cd61ac4",
   "metadata": {},
   "source": [
    "# Variance\n",
    "\n",
    "$$ \\sigma^2 = \\frac{\\sum_{i=1}^n (X_i - \\bar{X})^2}{n}$$\n",
    "\n",
    "When we are dealing with a sample, which is a subset of a population of observations, then we divide by $n - 1$, the **Degrees of Freedom**, to unbias the calculation. \n",
    "\n",
    "$$DoF = n - 1$$\n",
    "\n",
    "$$ S^2 = \\frac{\\sum_{i=1}^n (X_i - \\bar{X})^2}{n-1}$$"
   ]
  },
  {
   "cell_type": "code",
   "execution_count": 21,
   "id": "3da9a541",
   "metadata": {},
   "outputs": [
    {
     "data": {
      "text/plain": [
       "(82.5, 74.25)"
      ]
     },
     "execution_count": 21,
     "metadata": {},
     "output_type": "execute_result"
    }
   ],
   "source": [
    "def variance(lst, sample = True):\n",
    "    list_mean = mean(lst)\n",
    "    n = len(lst)\n",
    "    DoF = n - 1\n",
    "    sum_sq_diff = 0\n",
    "    \n",
    "    for val in lst:\n",
    "        diff = val - list_mean\n",
    "        # this += sign adds this to the current list\n",
    "        sum_sq_diff += (diff) ** 2\n",
    "#        print(val, list_mean, diff **2, sum_sq_diff)\n",
    "    if sample == False:\n",
    "        variance_ = sum_sq_diff / n\n",
    "    else:\n",
    "        variance_ = sum_sq_diff / DoF\n",
    "    return variance_\n",
    "    \n",
    "variance(X1, sample = True), variance(X1, sample = False)\n",
    "\n",
    "\n",
    "\n",
    "\n",
    "\n",
    "\n",
    "\n",
    "\n",
    "\n",
    "\n"
   ]
  },
  {
   "cell_type": "code",
   "execution_count": 22,
   "id": "3c638bf8",
   "metadata": {},
   "outputs": [
    {
     "data": {
      "text/plain": [
       "(839.7777777777778, 755.8)"
      ]
     },
     "execution_count": 22,
     "metadata": {},
     "output_type": "execute_result"
    }
   ],
   "source": [
    "variance(X2, sample = True), variance(X2, sample = False)"
   ]
  },
  {
   "cell_type": "markdown",
   "id": "b5a4c570",
   "metadata": {},
   "source": [
    "# Standard Deviation\n",
    "\n",
    "\n",
    "$s = \\sqrt{S^2}$"
   ]
  },
  {
   "cell_type": "code",
   "execution_count": 23,
   "id": "8b2175df",
   "metadata": {},
   "outputs": [],
   "source": [
    "def SD(lst, sample = True):\n",
    "    SD_ = variance(lst, sample) ** (1/2)\n",
    "    return SD_\n"
   ]
  },
  {
   "cell_type": "code",
   "execution_count": 24,
   "id": "ec9232f9",
   "metadata": {},
   "outputs": [
    {
     "data": {
      "text/plain": [
       "(28.978919541242007, 27.49181696432595)"
      ]
     },
     "execution_count": 24,
     "metadata": {},
     "output_type": "execute_result"
    }
   ],
   "source": [
    "SD(X2, sample = True), SD(X2, sample = False)"
   ]
  },
  {
   "cell_type": "code",
   "execution_count": 25,
   "id": "3ca2d1a2",
   "metadata": {},
   "outputs": [
    {
     "data": {
      "text/plain": [
       "(9.082951062292475, 8.616843969807043)"
      ]
     },
     "execution_count": 25,
     "metadata": {},
     "output_type": "execute_result"
    }
   ],
   "source": [
    "SD(X1, sample = True), SD(X1, sample = False)"
   ]
  },
  {
   "cell_type": "markdown",
   "id": "fb648002",
   "metadata": {},
   "source": [
    "# Standard Error"
   ]
  },
  {
   "cell_type": "code",
   "execution_count": 33,
   "id": "7ad07ec1",
   "metadata": {},
   "outputs": [],
   "source": [
    "def STE(lst, sample = True):\n",
    "    n = len(lst)\n",
    "    se = SD(lst, sample) / n ** (1/2)\n",
    "    \n",
    "    return se"
   ]
  },
  {
   "cell_type": "markdown",
   "id": "ccf28511",
   "metadata": {},
   "source": [
    "This describes how likely a given random sample mean $\\bar{x_i}$ is to deviate from the population mean $\\mu$. It is the standard deviation of the probability distribution for the random variable $\\bar{X}$, which represents all possible samples of a single given sample size $n$. As $n$ increases, $\\bar{X}$ can be expected to deviate less from $\\mu$, so standard error decreases. Because population standard deviation $\\sigma$ is rarely given, we again use an _estimator_ for standard error, denoted $s_\\bar{x}$. Populational data has no standard error as $\\mu$ can only take on a single value. "
   ]
  },
  {
   "cell_type": "code",
   "execution_count": 36,
   "id": "b192d944",
   "metadata": {},
   "outputs": [
    {
     "data": {
      "text/plain": [
       "(9.082951062292475, 2.872281323269014)"
      ]
     },
     "execution_count": 36,
     "metadata": {},
     "output_type": "execute_result"
    }
   ],
   "source": [
    "SD(X1, sample = True), STE(X1, sample = True)"
   ]
  },
  {
   "cell_type": "code",
   "execution_count": 38,
   "id": "dbab9431",
   "metadata": {},
   "outputs": [
    {
     "data": {
      "text/plain": [
       "(28.978919541242007, 9.163938988108649)"
      ]
     },
     "execution_count": 38,
     "metadata": {},
     "output_type": "execute_result"
    }
   ],
   "source": [
    "SD(X2, sample = True), STE(X2, sample = True)"
   ]
  },
  {
   "cell_type": "code",
   "execution_count": 40,
   "id": "24025338",
   "metadata": {},
   "outputs": [],
   "source": [
    "# the longer a list is, the lower the standard error will be in a calc.\n"
   ]
  },
  {
   "cell_type": "markdown",
   "id": "b393d585",
   "metadata": {},
   "source": [
    "### Covariance\n",
    "\n",
    "To calculate covariance, we multiply the sum of the product of the difference between the observed value and the mean of each list for value _i = 1_ through _n = number of observations_:\n",
    "\n",
    "$cov_{pop}(x,y) = \\frac{\\sum_{i=0}^{n-1} (x_{i} - x_{mean})(y_{i} - y_{mean})} {n}$\n",
    "\n",
    "We pass two lists through the covariance() function. As with the _variance()_ and _SD()_ functions, we can take the sample-covariance.\n",
    "\n",
    "$cov_{sample}(x,y) = \\frac{\\sum_{i=0}^{n-1} (x_{i} - x_{mean})(y_{i} - y_{mean})} {n - 1}$\n",
    "\n",
    "In order for covariance to be calculated, it is required that the lists passed to the function are of equal length. So we check this condition with an if statment:"
   ]
  },
  {
   "cell_type": "code",
   "execution_count": 41,
   "id": "8336eae3",
   "metadata": {},
   "outputs": [],
   "source": [
    "# this takes each given point and compares the difference between the mean\n",
    "# values and the observed values, multiplies them, and then sums the total \n",
    "# after dividing by number of observations\n"
   ]
  },
  {
   "cell_type": "code",
   "execution_count": 69,
   "id": "acff1959",
   "metadata": {},
   "outputs": [],
   "source": [
    "def covariance(lst1, lst2, sample = False):\n",
    "    mean1 = mean(lst1)\n",
    "    mean2 = mean(lst2)\n",
    "    \n",
    "    cov = 0\n",
    "    n1 = len(lst1)\n",
    "    n2 = len(lst2)\n",
    "    if n1 == n2:\n",
    "        n = n1\n",
    "        # sum the product of the differences\n",
    "        for i in range(n):\n",
    "            cov += (lst1[i] - mean1) * (lst2[i] - mean2)\n",
    "        if sample == False:\n",
    "            cov = cov / n\n",
    "        else:\n",
    "            cov = cov / (n - 1)\n",
    "            \n",
    "        return cov\n",
    "    else:\n",
    "        print(\"List lengths are not equal\")\n",
    "        print(\"List1:\", n1)\n",
    "        print(\"List2:\", n2)"
   ]
  },
  {
   "cell_type": "code",
   "execution_count": 72,
   "id": "22ce682e",
   "metadata": {},
   "outputs": [
    {
     "data": {
      "text/plain": [
       "114.0"
      ]
     },
     "execution_count": 72,
     "metadata": {},
     "output_type": "execute_result"
    }
   ],
   "source": [
    "covariance(X1, X2, sample = True)"
   ]
  },
  {
   "cell_type": "code",
   "execution_count": 55,
   "id": "446cae7e",
   "metadata": {},
   "outputs": [],
   "source": [
    "# problem with covariance is that it's difficult to interpret. "
   ]
  },
  {
   "cell_type": "code",
   "execution_count": 71,
   "id": "2fe5d16c",
   "metadata": {},
   "outputs": [
    {
     "name": "stdout",
     "output_type": "stream",
     "text": [
      "List lengths are not equal\n",
      "List1: 9\n",
      "List2: 10\n"
     ]
    }
   ],
   "source": [
    "# this is the else function for error checking\n",
    "\n",
    "covariance(X1[:-1], X2)"
   ]
  },
  {
   "cell_type": "markdown",
   "id": "6eb4f405",
   "metadata": {},
   "source": [
    "We can transform the covariance into a correlation value by dividing by the product of the standard deviations. \n",
    "\n",
    "$corr_{pop}(x,y) = \\frac{cov_{pop}(x, y)} {\\sigma_x \\sigma_y}$\n",
    "\n",
    "We thus divide the average sum of the product of the errors for each variable by the product standard deviations. This normalizes the covariance, providing an easily interpretable value between 0 and 1. The correlation() function that we build will make use of the covariance() function that we have already constructed as well as the stdev() function."
   ]
  },
  {
   "cell_type": "code",
   "execution_count": 78,
   "id": "c72c87c0",
   "metadata": {},
   "outputs": [
    {
     "data": {
      "text/plain": [
       "0.38979673531721776"
      ]
     },
     "execution_count": 78,
     "metadata": {},
     "output_type": "execute_result"
    }
   ],
   "source": [
    "def correlation(lst1, lst2):\n",
    "    cov = covariance(lst1, lst2)\n",
    "    SD1 = SD(lst1)\n",
    "    SD2 = SD(lst2)\n",
    "    corr = cov / (SD1 * SD2)\n",
    "    \n",
    "    return corr\n",
    "\n",
    "correlation(X1, X2)"
   ]
  },
  {
   "cell_type": "code",
   "execution_count": 93,
   "id": "5912d668",
   "metadata": {},
   "outputs": [
    {
     "data": {
      "text/plain": [
       "-0.9"
      ]
     },
     "execution_count": 93,
     "metadata": {},
     "output_type": "execute_result"
    }
   ],
   "source": [
    "X3 = [1 + x * -0.5 for x in X1]\n",
    "correlation(X1, X3)\n",
    "# why isn't this -1 like it is for Dr. Caton?"
   ]
  },
  {
   "cell_type": "markdown",
   "id": "c0cdf2a1",
   "metadata": {},
   "source": [
    "# Skewness"
   ]
  },
  {
   "cell_type": "markdown",
   "id": "71f4abfd",
   "metadata": {},
   "source": [
    "$skew_{pop}(x,y) = \\frac{\\sum_{i=0}^{n-1}{(x_{i} - x_{mean})^3}} {n\\sigma^3}$\n",
    "\n",
    "\n",
    "$skew_{sample}(x,y) = \\frac{\\sum_{i=0}^{n-1}{(x_{i} - x_{mean})^3}} {(n-1)(n-2)\\sigma^3}$"
   ]
  },
  {
   "cell_type": "code",
   "execution_count": 87,
   "id": "19f770b7",
   "metadata": {},
   "outputs": [
    {
     "data": {
      "text/plain": [
       "0.0"
      ]
     },
     "execution_count": 87,
     "metadata": {},
     "output_type": "execute_result"
    }
   ],
   "source": [
    "def skewness(lst, sample = True):\n",
    "    mean_ = mean(lst)\n",
    "    SD_ = SD(lst, sample)\n",
    "    # make sure we set our skew value to 0\n",
    "    # if we didn't do this we would get an error\n",
    "    skew = 0\n",
    "    n = len(lst)\n",
    "    for val in lst:\n",
    "        skew += (val - mean_) ** 3\n",
    "    skew = skew / (n * SD_ ** 3) if not sample else\\\n",
    "        n * skew / ((n - 1) * (n - 2) * SD_ ** 3)\n",
    "    return skew\n",
    "\n",
    "skewness(X1)"
   ]
  },
  {
   "cell_type": "code",
   "execution_count": 89,
   "id": "223d5433",
   "metadata": {},
   "outputs": [
    {
     "data": {
      "text/plain": [
       "0.7274589300195065"
      ]
     },
     "execution_count": 89,
     "metadata": {},
     "output_type": "execute_result"
    }
   ],
   "source": [
    "skewness(X2)"
   ]
  },
  {
   "cell_type": "code",
   "execution_count": 94,
   "id": "d82f991b",
   "metadata": {},
   "outputs": [
    {
     "data": {
      "text/plain": [
       "0.0"
      ]
     },
     "execution_count": 94,
     "metadata": {},
     "output_type": "execute_result"
    }
   ],
   "source": [
    "skewness(X3)"
   ]
  },
  {
   "cell_type": "markdown",
   "id": "a427a574",
   "metadata": {},
   "source": [
    "# Kurtosis"
   ]
  },
  {
   "cell_type": "markdown",
   "id": "dabd4046",
   "metadata": {},
   "source": [
    "$kurt_{pop} = \\frac{\\sum_{i=0}^{n-1} (x_{i} - x_{mean})^4} {n\\sigma^4}$\n",
    "\n",
    "$kurt_{sample} = \\frac{n(n+1)\\sum_{i=0}^{n-1} (x_{i} - x_{mean})^4} {(n - 1)(n - 2)( n - 3)\\sigma^4} - \\frac{3(n - 1)^2}{(n - 2)(n - 3)}$\n"
   ]
  },
  {
   "cell_type": "code",
   "execution_count": 122,
   "id": "06978929",
   "metadata": {},
   "outputs": [
    {
     "data": {
      "text/plain": [
       "1.7757575757575759"
      ]
     },
     "execution_count": 122,
     "metadata": {},
     "output_type": "execute_result"
    }
   ],
   "source": [
    "def kurtosis(lst, sample = True):\n",
    "    mean_ = mean(lst)\n",
    "    kurt = 0\n",
    "    SD_ = SD(lst, sample)\n",
    "    n = len(lst)\n",
    "    for val in lst:\n",
    "        kurt += (val - mean_) ** 4\n",
    "    kurt = kurt / (n * SD_ ** 4) if  sample == False else  n * (n + 1) * kurt / \\\n",
    "    ((n - 1) * (n - 2) * (n - 3) * (SD_ ** 4)) - (3 *(n - 1) ** 2) / ((n - 2) * (n - 3))\n",
    "    \n",
    "    return kurt\n",
    "\n",
    "kurtosis(X1, sample = False)"
   ]
  },
  {
   "cell_type": "code",
   "execution_count": 105,
   "id": "0b1b2727",
   "metadata": {},
   "outputs": [
    {
     "data": {
      "text/plain": [
       "2.175690843417415"
      ]
     },
     "execution_count": 105,
     "metadata": {},
     "output_type": "execute_result"
    }
   ],
   "source": [
    "kurtosis(X2, sample = False)"
   ]
  },
  {
   "cell_type": "code",
   "execution_count": 104,
   "id": "d8754edb",
   "metadata": {},
   "outputs": [
    {
     "data": {
      "text/plain": [
       "1.7757575757575759"
      ]
     },
     "execution_count": 104,
     "metadata": {},
     "output_type": "execute_result"
    }
   ],
   "source": [
    "kurtosis(X1, sample = False)"
   ]
  },
  {
   "cell_type": "code",
   "execution_count": 103,
   "id": "165ccd8a",
   "metadata": {},
   "outputs": [
    {
     "data": {
      "text/plain": [
       "-1.1999999999999997"
      ]
     },
     "execution_count": 103,
     "metadata": {},
     "output_type": "execute_result"
    }
   ],
   "source": [
    "kurtosis(X3)"
   ]
  },
  {
   "cell_type": "markdown",
   "id": "cfe8cb6c",
   "metadata": {},
   "source": [
    "# Gathering all our statistics\n",
    "    "
   ]
  },
  {
   "cell_type": "code",
   "execution_count": 121,
   "id": "44668b92",
   "metadata": {},
   "outputs": [
    {
     "data": {
      "text/html": [
       "<div>\n",
       "<style scoped>\n",
       "    .dataframe tbody tr th:only-of-type {\n",
       "        vertical-align: middle;\n",
       "    }\n",
       "\n",
       "    .dataframe tbody tr th {\n",
       "        vertical-align: top;\n",
       "    }\n",
       "\n",
       "    .dataframe thead th {\n",
       "        text-align: right;\n",
       "    }\n",
       "</style>\n",
       "<table border=\"1\" class=\"dataframe\">\n",
       "  <thead>\n",
       "    <tr style=\"text-align: right;\">\n",
       "      <th></th>\n",
       "      <th>List1</th>\n",
       "      <th>List2</th>\n",
       "    </tr>\n",
       "  </thead>\n",
       "  <tbody>\n",
       "    <tr>\n",
       "      <th>mean</th>\n",
       "      <td>16.50</td>\n",
       "      <td>39.00</td>\n",
       "    </tr>\n",
       "    <tr>\n",
       "      <th>median</th>\n",
       "      <td>16.50</td>\n",
       "      <td>30.00</td>\n",
       "    </tr>\n",
       "    <tr>\n",
       "      <th>variance</th>\n",
       "      <td>82.50</td>\n",
       "      <td>839.78</td>\n",
       "    </tr>\n",
       "    <tr>\n",
       "      <th>S.D.</th>\n",
       "      <td>8.62</td>\n",
       "      <td>27.49</td>\n",
       "    </tr>\n",
       "    <tr>\n",
       "      <th>Skewness</th>\n",
       "      <td>0.00</td>\n",
       "      <td>0.61</td>\n",
       "    </tr>\n",
       "    <tr>\n",
       "      <th>Kurtosis</th>\n",
       "      <td>1.78</td>\n",
       "      <td>2.18</td>\n",
       "    </tr>\n",
       "  </tbody>\n",
       "</table>\n",
       "</div>"
      ],
      "text/plain": [
       "          List1   List2\n",
       "mean      16.50   39.00\n",
       "median    16.50   30.00\n",
       "variance  82.50  839.78\n",
       "S.D.       8.62   27.49\n",
       "Skewness   0.00    0.61\n",
       "Kurtosis   1.78    2.18"
      ]
     },
     "execution_count": 121,
     "metadata": {},
     "output_type": "execute_result"
    }
   ],
   "source": [
    "import pandas as pd\n",
    "def gather_statistics(df, sample = False, round_dig = 3):\n",
    "    dct = {key:{} for key in df}\n",
    "    for key, val in df.items():\n",
    "        val.dropna(inplace = True)\n",
    "        dct[key][\"mean\"] = round(mean(val), round_dig)\n",
    "        dct[key][\"median\"] = round(median(val), round_dig)\n",
    "        dct[key][\"variance\"] = round(variance(val), round_dig)\n",
    "        dct[key][\"S.D.\"] = round(SD(val, sample), round_dig)\n",
    "        dct[key][\"Skewness\"] = round(skewness(val, sample), round_dig)\n",
    "        dct[key][\"Kurtosis\"] = round(kurtosis(val, sample), round_dig)\n",
    "    stats_df = pd.DataFrame(dct)\n",
    "    return stats_df\n",
    "    print(stats_df)\n",
    "    # drop any missing observations from dataframe\n",
    "    \n",
    "data = pd.DataFrame([X1,X2], index = [\"List1\", \"List2\"]).T\n",
    "gather_statistics(data, sample = False, round_dig = 2)"
   ]
  },
  {
   "cell_type": "markdown",
   "id": "c1b9d1e6",
   "metadata": {},
   "source": [
    "# What am I looking at?\n",
    "the above is super complicated, but I'm going to try to explain it\n",
    "basically we take our original calculations, pass a new dataframe that's blank\n",
    "then we store it all inside of the key value, and set key as index later on\n",
    "this will create two dictionaries, one with the calculations for list1, and the\n",
    "other for list2. This allows for some really efficient storage for dataframes\n"
   ]
  },
  {
   "cell_type": "markdown",
   "id": "43d218f8",
   "metadata": {},
   "source": [
    "# Yes, it gets crazier with the Fraser Economic Freedom of the World\n",
    "\n",
    "note: try not to use excel, as it loads way slower than typical"
   ]
  },
  {
   "cell_type": "code",
   "execution_count": 133,
   "id": "4ca0d3ef",
   "metadata": {
    "scrolled": true
   },
   "outputs": [
    {
     "data": {
      "text/html": [
       "<div>\n",
       "<style scoped>\n",
       "    .dataframe tbody tr th:only-of-type {\n",
       "        vertical-align: middle;\n",
       "    }\n",
       "\n",
       "    .dataframe tbody tr th {\n",
       "        vertical-align: top;\n",
       "    }\n",
       "\n",
       "    .dataframe thead th {\n",
       "        text-align: right;\n",
       "    }\n",
       "</style>\n",
       "<table border=\"1\" class=\"dataframe\">\n",
       "  <thead>\n",
       "    <tr style=\"text-align: right;\">\n",
       "      <th></th>\n",
       "      <th></th>\n",
       "      <th>Unnamed: 0</th>\n",
       "      <th>ISO Code 2</th>\n",
       "      <th>Countries</th>\n",
       "      <th>Economic Freedom Summary Index</th>\n",
       "      <th>Rank</th>\n",
       "      <th>Quartile</th>\n",
       "      <th>1A Government Consumption</th>\n",
       "      <th>data</th>\n",
       "      <th>1B  Transfers and subsidies</th>\n",
       "      <th>data.1</th>\n",
       "      <th>...</th>\n",
       "      <th>Unnamed: 101</th>\n",
       "      <th>Unnamed: 102</th>\n",
       "      <th>Unnamed: 103</th>\n",
       "      <th>Unnamed: 104</th>\n",
       "      <th>Unnamed: 105</th>\n",
       "      <th>Unnamed: 106</th>\n",
       "      <th>Unnamed: 107</th>\n",
       "      <th>Unnamed: 108</th>\n",
       "      <th>Unnamed: 109</th>\n",
       "      <th>Unnamed: 110</th>\n",
       "    </tr>\n",
       "    <tr>\n",
       "      <th>ISO Code 3</th>\n",
       "      <th>Year</th>\n",
       "      <th></th>\n",
       "      <th></th>\n",
       "      <th></th>\n",
       "      <th></th>\n",
       "      <th></th>\n",
       "      <th></th>\n",
       "      <th></th>\n",
       "      <th></th>\n",
       "      <th></th>\n",
       "      <th></th>\n",
       "      <th></th>\n",
       "      <th></th>\n",
       "      <th></th>\n",
       "      <th></th>\n",
       "      <th></th>\n",
       "      <th></th>\n",
       "      <th></th>\n",
       "      <th></th>\n",
       "      <th></th>\n",
       "      <th></th>\n",
       "      <th></th>\n",
       "    </tr>\n",
       "  </thead>\n",
       "  <tbody>\n",
       "    <tr>\n",
       "      <th>ALB</th>\n",
       "      <th>2020</th>\n",
       "      <td>NaN</td>\n",
       "      <td>AL</td>\n",
       "      <td>Albania</td>\n",
       "      <td>7.64</td>\n",
       "      <td>26.0</td>\n",
       "      <td>1.0</td>\n",
       "      <td>8.026471</td>\n",
       "      <td>12.710000</td>\n",
       "      <td>6.978202</td>\n",
       "      <td>11.590000</td>\n",
       "      <td>...</td>\n",
       "      <td>2011.00</td>\n",
       "      <td>2012.00</td>\n",
       "      <td>2013.00</td>\n",
       "      <td>2014.00</td>\n",
       "      <td>2015.00</td>\n",
       "      <td>2016.0</td>\n",
       "      <td>2017.0</td>\n",
       "      <td>2018.0</td>\n",
       "      <td>2019.00</td>\n",
       "      <td>2020.00</td>\n",
       "    </tr>\n",
       "    <tr>\n",
       "      <th>DZA</th>\n",
       "      <th>2020</th>\n",
       "      <td>NaN</td>\n",
       "      <td>DZ</td>\n",
       "      <td>Algeria</td>\n",
       "      <td>5.12</td>\n",
       "      <td>157.0</td>\n",
       "      <td>4.0</td>\n",
       "      <td>3.102941</td>\n",
       "      <td>29.450000</td>\n",
       "      <td>7.817129</td>\n",
       "      <td>8.511137</td>\n",
       "      <td>...</td>\n",
       "      <td>153.00</td>\n",
       "      <td>153.00</td>\n",
       "      <td>157.00</td>\n",
       "      <td>159.00</td>\n",
       "      <td>159.00</td>\n",
       "      <td>162.0</td>\n",
       "      <td>162.0</td>\n",
       "      <td>162.0</td>\n",
       "      <td>165.00</td>\n",
       "      <td>165.00</td>\n",
       "    </tr>\n",
       "    <tr>\n",
       "      <th>AGO</th>\n",
       "      <th>2020</th>\n",
       "      <td>NaN</td>\n",
       "      <td>AO</td>\n",
       "      <td>Angola</td>\n",
       "      <td>5.91</td>\n",
       "      <td>138.0</td>\n",
       "      <td>4.0</td>\n",
       "      <td>7.700000</td>\n",
       "      <td>13.820000</td>\n",
       "      <td>9.702997</td>\n",
       "      <td>1.590000</td>\n",
       "      <td>...</td>\n",
       "      <td>38.25</td>\n",
       "      <td>38.25</td>\n",
       "      <td>39.25</td>\n",
       "      <td>39.75</td>\n",
       "      <td>39.75</td>\n",
       "      <td>40.5</td>\n",
       "      <td>40.5</td>\n",
       "      <td>40.5</td>\n",
       "      <td>41.25</td>\n",
       "      <td>41.25</td>\n",
       "    </tr>\n",
       "    <tr>\n",
       "      <th>ARG</th>\n",
       "      <th>2020</th>\n",
       "      <td>NaN</td>\n",
       "      <td>AR</td>\n",
       "      <td>Argentina</td>\n",
       "      <td>4.87</td>\n",
       "      <td>161.0</td>\n",
       "      <td>4.0</td>\n",
       "      <td>5.985294</td>\n",
       "      <td>19.650000</td>\n",
       "      <td>6.493188</td>\n",
       "      <td>13.370000</td>\n",
       "      <td>...</td>\n",
       "      <td>114.75</td>\n",
       "      <td>114.75</td>\n",
       "      <td>117.75</td>\n",
       "      <td>119.25</td>\n",
       "      <td>119.25</td>\n",
       "      <td>121.5</td>\n",
       "      <td>121.5</td>\n",
       "      <td>121.5</td>\n",
       "      <td>123.75</td>\n",
       "      <td>123.75</td>\n",
       "    </tr>\n",
       "    <tr>\n",
       "      <th>ARM</th>\n",
       "      <th>2020</th>\n",
       "      <td>NaN</td>\n",
       "      <td>AM</td>\n",
       "      <td>Armenia</td>\n",
       "      <td>7.84</td>\n",
       "      <td>11.0</td>\n",
       "      <td>1.0</td>\n",
       "      <td>6.605882</td>\n",
       "      <td>17.540000</td>\n",
       "      <td>7.223433</td>\n",
       "      <td>10.690000</td>\n",
       "      <td>...</td>\n",
       "      <td>76.50</td>\n",
       "      <td>76.50</td>\n",
       "      <td>78.50</td>\n",
       "      <td>79.50</td>\n",
       "      <td>79.50</td>\n",
       "      <td>81.0</td>\n",
       "      <td>81.0</td>\n",
       "      <td>81.0</td>\n",
       "      <td>82.50</td>\n",
       "      <td>82.50</td>\n",
       "    </tr>\n",
       "    <tr>\n",
       "      <th>...</th>\n",
       "      <th>...</th>\n",
       "      <td>...</td>\n",
       "      <td>...</td>\n",
       "      <td>...</td>\n",
       "      <td>...</td>\n",
       "      <td>...</td>\n",
       "      <td>...</td>\n",
       "      <td>...</td>\n",
       "      <td>...</td>\n",
       "      <td>...</td>\n",
       "      <td>...</td>\n",
       "      <td>...</td>\n",
       "      <td>...</td>\n",
       "      <td>...</td>\n",
       "      <td>...</td>\n",
       "      <td>...</td>\n",
       "      <td>...</td>\n",
       "      <td>...</td>\n",
       "      <td>...</td>\n",
       "      <td>...</td>\n",
       "      <td>...</td>\n",
       "      <td>...</td>\n",
       "    </tr>\n",
       "    <tr>\n",
       "      <th>VEN</th>\n",
       "      <th>1970</th>\n",
       "      <td>NaN</td>\n",
       "      <td>VE</td>\n",
       "      <td>Venezuela, RB</td>\n",
       "      <td>7.19</td>\n",
       "      <td>13.0</td>\n",
       "      <td>1.0</td>\n",
       "      <td>6.602003</td>\n",
       "      <td>17.553191</td>\n",
       "      <td>9.827430</td>\n",
       "      <td>1.133333</td>\n",
       "      <td>...</td>\n",
       "      <td>NaN</td>\n",
       "      <td>NaN</td>\n",
       "      <td>NaN</td>\n",
       "      <td>NaN</td>\n",
       "      <td>NaN</td>\n",
       "      <td>NaN</td>\n",
       "      <td>NaN</td>\n",
       "      <td>NaN</td>\n",
       "      <td>NaN</td>\n",
       "      <td>NaN</td>\n",
       "    </tr>\n",
       "    <tr>\n",
       "      <th>VNM</th>\n",
       "      <th>1970</th>\n",
       "      <td>NaN</td>\n",
       "      <td>VN</td>\n",
       "      <td>Vietnam</td>\n",
       "      <td>NaN</td>\n",
       "      <td>NaN</td>\n",
       "      <td>NaN</td>\n",
       "      <td>NaN</td>\n",
       "      <td>NaN</td>\n",
       "      <td>NaN</td>\n",
       "      <td>NaN</td>\n",
       "      <td>...</td>\n",
       "      <td>NaN</td>\n",
       "      <td>NaN</td>\n",
       "      <td>NaN</td>\n",
       "      <td>NaN</td>\n",
       "      <td>NaN</td>\n",
       "      <td>NaN</td>\n",
       "      <td>NaN</td>\n",
       "      <td>NaN</td>\n",
       "      <td>NaN</td>\n",
       "      <td>NaN</td>\n",
       "    </tr>\n",
       "    <tr>\n",
       "      <th>YEM</th>\n",
       "      <th>1970</th>\n",
       "      <td>NaN</td>\n",
       "      <td>YE</td>\n",
       "      <td>Yemen, Rep.</td>\n",
       "      <td>NaN</td>\n",
       "      <td>NaN</td>\n",
       "      <td>NaN</td>\n",
       "      <td>NaN</td>\n",
       "      <td>NaN</td>\n",
       "      <td>NaN</td>\n",
       "      <td>NaN</td>\n",
       "      <td>...</td>\n",
       "      <td>NaN</td>\n",
       "      <td>NaN</td>\n",
       "      <td>NaN</td>\n",
       "      <td>NaN</td>\n",
       "      <td>NaN</td>\n",
       "      <td>NaN</td>\n",
       "      <td>NaN</td>\n",
       "      <td>NaN</td>\n",
       "      <td>NaN</td>\n",
       "      <td>NaN</td>\n",
       "    </tr>\n",
       "    <tr>\n",
       "      <th>ZMB</th>\n",
       "      <th>1970</th>\n",
       "      <td>NaN</td>\n",
       "      <td>ZM</td>\n",
       "      <td>Zambia</td>\n",
       "      <td>5.33</td>\n",
       "      <td>54.0</td>\n",
       "      <td>3.0</td>\n",
       "      <td>3.448131</td>\n",
       "      <td>28.276353</td>\n",
       "      <td>9.105430</td>\n",
       "      <td>3.783070</td>\n",
       "      <td>...</td>\n",
       "      <td>NaN</td>\n",
       "      <td>NaN</td>\n",
       "      <td>NaN</td>\n",
       "      <td>NaN</td>\n",
       "      <td>NaN</td>\n",
       "      <td>NaN</td>\n",
       "      <td>NaN</td>\n",
       "      <td>NaN</td>\n",
       "      <td>NaN</td>\n",
       "      <td>NaN</td>\n",
       "    </tr>\n",
       "    <tr>\n",
       "      <th>ZWE</th>\n",
       "      <th>1970</th>\n",
       "      <td>NaN</td>\n",
       "      <td>ZW</td>\n",
       "      <td>Zimbabwe</td>\n",
       "      <td>NaN</td>\n",
       "      <td>NaN</td>\n",
       "      <td>NaN</td>\n",
       "      <td>7.806922</td>\n",
       "      <td>13.456464</td>\n",
       "      <td>NaN</td>\n",
       "      <td>NaN</td>\n",
       "      <td>...</td>\n",
       "      <td>NaN</td>\n",
       "      <td>NaN</td>\n",
       "      <td>NaN</td>\n",
       "      <td>NaN</td>\n",
       "      <td>NaN</td>\n",
       "      <td>NaN</td>\n",
       "      <td>NaN</td>\n",
       "      <td>NaN</td>\n",
       "      <td>NaN</td>\n",
       "      <td>NaN</td>\n",
       "    </tr>\n",
       "  </tbody>\n",
       "</table>\n",
       "<p>4455 rows × 109 columns</p>\n",
       "</div>"
      ],
      "text/plain": [
       "                 Unnamed: 0 ISO Code 2      Countries  \\\n",
       "ISO Code 3 Year                                         \n",
       "ALB        2020         NaN         AL        Albania   \n",
       "DZA        2020         NaN         DZ        Algeria   \n",
       "AGO        2020         NaN         AO         Angola   \n",
       "ARG        2020         NaN         AR      Argentina   \n",
       "ARM        2020         NaN         AM        Armenia   \n",
       "...                     ...        ...            ...   \n",
       "VEN        1970         NaN         VE  Venezuela, RB   \n",
       "VNM        1970         NaN         VN        Vietnam   \n",
       "YEM        1970         NaN         YE    Yemen, Rep.   \n",
       "ZMB        1970         NaN         ZM         Zambia   \n",
       "ZWE        1970         NaN         ZW       Zimbabwe   \n",
       "\n",
       "                 Economic Freedom Summary Index   Rank  Quartile  \\\n",
       "ISO Code 3 Year                                                    \n",
       "ALB        2020                            7.64   26.0       1.0   \n",
       "DZA        2020                            5.12  157.0       4.0   \n",
       "AGO        2020                            5.91  138.0       4.0   \n",
       "ARG        2020                            4.87  161.0       4.0   \n",
       "ARM        2020                            7.84   11.0       1.0   \n",
       "...                                         ...    ...       ...   \n",
       "VEN        1970                            7.19   13.0       1.0   \n",
       "VNM        1970                             NaN    NaN       NaN   \n",
       "YEM        1970                             NaN    NaN       NaN   \n",
       "ZMB        1970                            5.33   54.0       3.0   \n",
       "ZWE        1970                             NaN    NaN       NaN   \n",
       "\n",
       "                 1A Government Consumption       data  \\\n",
       "ISO Code 3 Year                                         \n",
       "ALB        2020                   8.026471  12.710000   \n",
       "DZA        2020                   3.102941  29.450000   \n",
       "AGO        2020                   7.700000  13.820000   \n",
       "ARG        2020                   5.985294  19.650000   \n",
       "ARM        2020                   6.605882  17.540000   \n",
       "...                                    ...        ...   \n",
       "VEN        1970                   6.602003  17.553191   \n",
       "VNM        1970                        NaN        NaN   \n",
       "YEM        1970                        NaN        NaN   \n",
       "ZMB        1970                   3.448131  28.276353   \n",
       "ZWE        1970                   7.806922  13.456464   \n",
       "\n",
       "                 1B  Transfers and subsidies     data.1  ...  Unnamed: 101  \\\n",
       "ISO Code 3 Year                                          ...                 \n",
       "ALB        2020                     6.978202  11.590000  ...       2011.00   \n",
       "DZA        2020                     7.817129   8.511137  ...        153.00   \n",
       "AGO        2020                     9.702997   1.590000  ...         38.25   \n",
       "ARG        2020                     6.493188  13.370000  ...        114.75   \n",
       "ARM        2020                     7.223433  10.690000  ...         76.50   \n",
       "...                                      ...        ...  ...           ...   \n",
       "VEN        1970                     9.827430   1.133333  ...           NaN   \n",
       "VNM        1970                          NaN        NaN  ...           NaN   \n",
       "YEM        1970                          NaN        NaN  ...           NaN   \n",
       "ZMB        1970                     9.105430   3.783070  ...           NaN   \n",
       "ZWE        1970                          NaN        NaN  ...           NaN   \n",
       "\n",
       "                 Unnamed: 102  Unnamed: 103 Unnamed: 104  Unnamed: 105  \\\n",
       "ISO Code 3 Year                                                          \n",
       "ALB        2020       2012.00       2013.00      2014.00       2015.00   \n",
       "DZA        2020        153.00        157.00       159.00        159.00   \n",
       "AGO        2020         38.25         39.25        39.75         39.75   \n",
       "ARG        2020        114.75        117.75       119.25        119.25   \n",
       "ARM        2020         76.50         78.50        79.50         79.50   \n",
       "...                       ...           ...          ...           ...   \n",
       "VEN        1970           NaN           NaN          NaN           NaN   \n",
       "VNM        1970           NaN           NaN          NaN           NaN   \n",
       "YEM        1970           NaN           NaN          NaN           NaN   \n",
       "ZMB        1970           NaN           NaN          NaN           NaN   \n",
       "ZWE        1970           NaN           NaN          NaN           NaN   \n",
       "\n",
       "                Unnamed: 106  Unnamed: 107  Unnamed: 108  Unnamed: 109  \\\n",
       "ISO Code 3 Year                                                          \n",
       "ALB        2020       2016.0        2017.0        2018.0       2019.00   \n",
       "DZA        2020        162.0         162.0         162.0        165.00   \n",
       "AGO        2020         40.5          40.5          40.5         41.25   \n",
       "ARG        2020        121.5         121.5         121.5        123.75   \n",
       "ARM        2020         81.0          81.0          81.0         82.50   \n",
       "...                      ...           ...           ...           ...   \n",
       "VEN        1970          NaN           NaN           NaN           NaN   \n",
       "VNM        1970          NaN           NaN           NaN           NaN   \n",
       "YEM        1970          NaN           NaN           NaN           NaN   \n",
       "ZMB        1970          NaN           NaN           NaN           NaN   \n",
       "ZWE        1970          NaN           NaN           NaN           NaN   \n",
       "\n",
       "                 Unnamed: 110  \n",
       "ISO Code 3 Year                \n",
       "ALB        2020       2020.00  \n",
       "DZA        2020        165.00  \n",
       "AGO        2020         41.25  \n",
       "ARG        2020        123.75  \n",
       "ARM        2020         82.50  \n",
       "...                       ...  \n",
       "VEN        1970           NaN  \n",
       "VNM        1970           NaN  \n",
       "YEM        1970           NaN  \n",
       "ZMB        1970           NaN  \n",
       "ZWE        1970           NaN  \n",
       "\n",
       "[4455 rows x 109 columns]"
      ]
     },
     "execution_count": 133,
     "metadata": {},
     "output_type": "execute_result"
    }
   ],
   "source": [
    "filename = \"efotw-2022-master-index-data-for-researchers-iso.xlsx\"\n",
    "data = pd.read_excel(filename, header = [4],\n",
    "                    index_col = [3, 1])\n",
    "data"
   ]
  },
  {
   "cell_type": "markdown",
   "id": "29c19fb3",
   "metadata": {},
   "source": [
    "### this is to call a specific excel sheet and rename mislabeled columns"
   ]
  },
  {
   "cell_type": "code",
   "execution_count": 136,
   "id": "87b3016d",
   "metadata": {},
   "outputs": [
    {
     "data": {
      "text/html": [
       "<div>\n",
       "<style scoped>\n",
       "    .dataframe tbody tr th:only-of-type {\n",
       "        vertical-align: middle;\n",
       "    }\n",
       "\n",
       "    .dataframe tbody tr th {\n",
       "        vertical-align: top;\n",
       "    }\n",
       "\n",
       "    .dataframe thead th {\n",
       "        text-align: right;\n",
       "    }\n",
       "</style>\n",
       "<table border=\"1\" class=\"dataframe\">\n",
       "  <thead>\n",
       "    <tr style=\"text-align: right;\">\n",
       "      <th></th>\n",
       "      <th>Year</th>\n",
       "      <th>ISO_Code_2</th>\n",
       "      <th>ISO_Code_3</th>\n",
       "      <th>World Bank Region</th>\n",
       "      <th>World Bank Current Income Classification, 1990-present (L=Low income, LM=Lower middle income, UM=Upper middle income, H=High income)</th>\n",
       "      <th>Countries</th>\n",
       "      <th>Summary</th>\n",
       "      <th>Size of Government</th>\n",
       "      <th>Legal System and Property Rights</th>\n",
       "      <th>Sound Money</th>\n",
       "      <th>Freedom to Trade Internationally</th>\n",
       "      <th>Regulation</th>\n",
       "      <th>Standard Deviation of the 5 EFW Areas</th>\n",
       "    </tr>\n",
       "  </thead>\n",
       "  <tbody>\n",
       "    <tr>\n",
       "      <th>0</th>\n",
       "      <td>2020</td>\n",
       "      <td>AL</td>\n",
       "      <td>ALB</td>\n",
       "      <td>Europe &amp; Central Asia</td>\n",
       "      <td>UM</td>\n",
       "      <td>Albania</td>\n",
       "      <td>7.640000</td>\n",
       "      <td>7.817077</td>\n",
       "      <td>5.260351</td>\n",
       "      <td>9.788269</td>\n",
       "      <td>8.222499</td>\n",
       "      <td>7.112958</td>\n",
       "      <td>1.652742</td>\n",
       "    </tr>\n",
       "    <tr>\n",
       "      <th>1</th>\n",
       "      <td>2020</td>\n",
       "      <td>DZ</td>\n",
       "      <td>DZA</td>\n",
       "      <td>Middle East &amp; North Africa</td>\n",
       "      <td>LM</td>\n",
       "      <td>Algeria</td>\n",
       "      <td>5.120000</td>\n",
       "      <td>4.409943</td>\n",
       "      <td>4.131760</td>\n",
       "      <td>7.630287</td>\n",
       "      <td>3.639507</td>\n",
       "      <td>5.778953</td>\n",
       "      <td>1.613103</td>\n",
       "    </tr>\n",
       "    <tr>\n",
       "      <th>2</th>\n",
       "      <td>2020</td>\n",
       "      <td>AO</td>\n",
       "      <td>AGO</td>\n",
       "      <td>Sub-Saharan Africa</td>\n",
       "      <td>LM</td>\n",
       "      <td>Angola</td>\n",
       "      <td>5.910000</td>\n",
       "      <td>8.133385</td>\n",
       "      <td>3.705161</td>\n",
       "      <td>6.087996</td>\n",
       "      <td>5.373190</td>\n",
       "      <td>6.227545</td>\n",
       "      <td>1.598854</td>\n",
       "    </tr>\n",
       "    <tr>\n",
       "      <th>3</th>\n",
       "      <td>2020</td>\n",
       "      <td>AR</td>\n",
       "      <td>ARG</td>\n",
       "      <td>Latin America &amp; the Caribbean</td>\n",
       "      <td>UM</td>\n",
       "      <td>Argentina</td>\n",
       "      <td>4.870000</td>\n",
       "      <td>6.483768</td>\n",
       "      <td>4.796454</td>\n",
       "      <td>4.516018</td>\n",
       "      <td>3.086907</td>\n",
       "      <td>5.490538</td>\n",
       "      <td>1.254924</td>\n",
       "    </tr>\n",
       "    <tr>\n",
       "      <th>4</th>\n",
       "      <td>2020</td>\n",
       "      <td>AM</td>\n",
       "      <td>ARM</td>\n",
       "      <td>Europe &amp; Central Asia</td>\n",
       "      <td>UM</td>\n",
       "      <td>Armenia</td>\n",
       "      <td>7.840000</td>\n",
       "      <td>7.975292</td>\n",
       "      <td>6.236215</td>\n",
       "      <td>9.553009</td>\n",
       "      <td>7.692708</td>\n",
       "      <td>7.756333</td>\n",
       "      <td>1.178292</td>\n",
       "    </tr>\n",
       "    <tr>\n",
       "      <th>...</th>\n",
       "      <td>...</td>\n",
       "      <td>...</td>\n",
       "      <td>...</td>\n",
       "      <td>...</td>\n",
       "      <td>...</td>\n",
       "      <td>...</td>\n",
       "      <td>...</td>\n",
       "      <td>...</td>\n",
       "      <td>...</td>\n",
       "      <td>...</td>\n",
       "      <td>...</td>\n",
       "      <td>...</td>\n",
       "      <td>...</td>\n",
       "    </tr>\n",
       "    <tr>\n",
       "      <th>4450</th>\n",
       "      <td>1970</td>\n",
       "      <td>VE</td>\n",
       "      <td>VEN</td>\n",
       "      <td>Latin America &amp; the Caribbean</td>\n",
       "      <td>NaN</td>\n",
       "      <td>Venezuela, RB</td>\n",
       "      <td>7.242943</td>\n",
       "      <td>8.349529</td>\n",
       "      <td>5.003088</td>\n",
       "      <td>9.621851</td>\n",
       "      <td>7.895993</td>\n",
       "      <td>5.209592</td>\n",
       "      <td>2.028426</td>\n",
       "    </tr>\n",
       "    <tr>\n",
       "      <th>4451</th>\n",
       "      <td>1970</td>\n",
       "      <td>VN</td>\n",
       "      <td>VNM</td>\n",
       "      <td>East Asia &amp; Pacific</td>\n",
       "      <td>NaN</td>\n",
       "      <td>Vietnam</td>\n",
       "      <td>NaN</td>\n",
       "      <td>NaN</td>\n",
       "      <td>NaN</td>\n",
       "      <td>NaN</td>\n",
       "      <td>NaN</td>\n",
       "      <td>NaN</td>\n",
       "      <td>NaN</td>\n",
       "    </tr>\n",
       "    <tr>\n",
       "      <th>4452</th>\n",
       "      <td>1970</td>\n",
       "      <td>YE</td>\n",
       "      <td>YEM</td>\n",
       "      <td>Middle East &amp; North Africa</td>\n",
       "      <td>NaN</td>\n",
       "      <td>Yemen, Rep.</td>\n",
       "      <td>NaN</td>\n",
       "      <td>NaN</td>\n",
       "      <td>NaN</td>\n",
       "      <td>NaN</td>\n",
       "      <td>NaN</td>\n",
       "      <td>NaN</td>\n",
       "      <td>NaN</td>\n",
       "    </tr>\n",
       "    <tr>\n",
       "      <th>4453</th>\n",
       "      <td>1970</td>\n",
       "      <td>ZM</td>\n",
       "      <td>ZMB</td>\n",
       "      <td>Sub-Saharan Africa</td>\n",
       "      <td>NaN</td>\n",
       "      <td>Zambia</td>\n",
       "      <td>4.498763</td>\n",
       "      <td>5.374545</td>\n",
       "      <td>4.472812</td>\n",
       "      <td>5.137395</td>\n",
       "      <td>NaN</td>\n",
       "      <td>5.307952</td>\n",
       "      <td>0.412514</td>\n",
       "    </tr>\n",
       "    <tr>\n",
       "      <th>4454</th>\n",
       "      <td>1970</td>\n",
       "      <td>ZW</td>\n",
       "      <td>ZWE</td>\n",
       "      <td>Sub-Saharan Africa</td>\n",
       "      <td>NaN</td>\n",
       "      <td>Zimbabwe</td>\n",
       "      <td>NaN</td>\n",
       "      <td>NaN</td>\n",
       "      <td>NaN</td>\n",
       "      <td>NaN</td>\n",
       "      <td>NaN</td>\n",
       "      <td>NaN</td>\n",
       "      <td>NaN</td>\n",
       "    </tr>\n",
       "  </tbody>\n",
       "</table>\n",
       "<p>4455 rows × 13 columns</p>\n",
       "</div>"
      ],
      "text/plain": [
       "      Year ISO_Code_2 ISO_Code_3              World Bank Region  \\\n",
       "0     2020         AL        ALB          Europe & Central Asia   \n",
       "1     2020         DZ        DZA     Middle East & North Africa   \n",
       "2     2020         AO        AGO             Sub-Saharan Africa   \n",
       "3     2020         AR        ARG  Latin America & the Caribbean   \n",
       "4     2020         AM        ARM          Europe & Central Asia   \n",
       "...    ...        ...        ...                            ...   \n",
       "4450  1970         VE        VEN  Latin America & the Caribbean   \n",
       "4451  1970         VN        VNM            East Asia & Pacific   \n",
       "4452  1970         YE        YEM     Middle East & North Africa   \n",
       "4453  1970         ZM        ZMB             Sub-Saharan Africa   \n",
       "4454  1970         ZW        ZWE             Sub-Saharan Africa   \n",
       "\n",
       "     World Bank Current Income Classification, 1990-present (L=Low income, LM=Lower middle income, UM=Upper middle income, H=High income)  \\\n",
       "0                                                    UM                                                                                     \n",
       "1                                                    LM                                                                                     \n",
       "2                                                    LM                                                                                     \n",
       "3                                                    UM                                                                                     \n",
       "4                                                    UM                                                                                     \n",
       "...                                                 ...                                                                                     \n",
       "4450                                                NaN                                                                                     \n",
       "4451                                                NaN                                                                                     \n",
       "4452                                                NaN                                                                                     \n",
       "4453                                                NaN                                                                                     \n",
       "4454                                                NaN                                                                                     \n",
       "\n",
       "          Countries   Summary  Size of Government  \\\n",
       "0           Albania  7.640000            7.817077   \n",
       "1           Algeria  5.120000            4.409943   \n",
       "2            Angola  5.910000            8.133385   \n",
       "3         Argentina  4.870000            6.483768   \n",
       "4           Armenia  7.840000            7.975292   \n",
       "...             ...       ...                 ...   \n",
       "4450  Venezuela, RB  7.242943            8.349529   \n",
       "4451        Vietnam       NaN                 NaN   \n",
       "4452    Yemen, Rep.       NaN                 NaN   \n",
       "4453         Zambia  4.498763            5.374545   \n",
       "4454       Zimbabwe       NaN                 NaN   \n",
       "\n",
       "      Legal System and Property Rights  Sound Money  \\\n",
       "0                             5.260351     9.788269   \n",
       "1                             4.131760     7.630287   \n",
       "2                             3.705161     6.087996   \n",
       "3                             4.796454     4.516018   \n",
       "4                             6.236215     9.553009   \n",
       "...                                ...          ...   \n",
       "4450                          5.003088     9.621851   \n",
       "4451                               NaN          NaN   \n",
       "4452                               NaN          NaN   \n",
       "4453                          4.472812     5.137395   \n",
       "4454                               NaN          NaN   \n",
       "\n",
       "      Freedom to Trade Internationally  Regulation  \\\n",
       "0                             8.222499    7.112958   \n",
       "1                             3.639507    5.778953   \n",
       "2                             5.373190    6.227545   \n",
       "3                             3.086907    5.490538   \n",
       "4                             7.692708    7.756333   \n",
       "...                                ...         ...   \n",
       "4450                          7.895993    5.209592   \n",
       "4451                               NaN         NaN   \n",
       "4452                               NaN         NaN   \n",
       "4453                               NaN    5.307952   \n",
       "4454                               NaN         NaN   \n",
       "\n",
       "      Standard Deviation of the 5 EFW Areas  \n",
       "0                                  1.652742  \n",
       "1                                  1.613103  \n",
       "2                                  1.598854  \n",
       "3                                  1.254924  \n",
       "4                                  1.178292  \n",
       "...                                     ...  \n",
       "4450                               2.028426  \n",
       "4451                                    NaN  \n",
       "4452                                    NaN  \n",
       "4453                               0.412514  \n",
       "4454                                    NaN  \n",
       "\n",
       "[4455 rows x 13 columns]"
      ]
     },
     "execution_count": 136,
     "metadata": {},
     "output_type": "execute_result"
    }
   ],
   "source": [
    "data = pd.read_excel(filename,\n",
    "                    sheet_name = \"EFW Panel Data 2022 Report\")\n",
    "rename = {\"Panel Data Summary Index\":\"Summary\",\n",
    "            \"Area 1\": \"Size of Government\",\n",
    "         \"Area 2\": \"Legal System and Property Rights\",\n",
    "         \"Area 3\": \"Sound Money\",\n",
    "         \"Area 4\": \"Freedom to Trade Internationally\",\n",
    "         \"Area 5\": \"Regulation\"}\n",
    "data.rename(columns = rename)"
   ]
  }
 ],
 "metadata": {
  "kernelspec": {
   "display_name": "Python 3 (ipykernel)",
   "language": "python",
   "name": "python3"
  },
  "language_info": {
   "codemirror_mode": {
    "name": "ipython",
    "version": 3
   },
   "file_extension": ".py",
   "mimetype": "text/x-python",
   "name": "python",
   "nbconvert_exporter": "python",
   "pygments_lexer": "ipython3",
   "version": "3.9.13"
  }
 },
 "nbformat": 4,
 "nbformat_minor": 5
}

{
 "cells": [
  {
   "cell_type": "markdown",
   "id": "ada49aac",
   "metadata": {},
   "source": [
    "1. making it so that the python code can read a model that is stored online in a shared file\n",
    "2. Make it update in real time from yahoo finance\n",
    "3. find a database with expectations perhaps\n",
    "4. sensitivity table for intrinsic value?\n",
    "5. analyst assigned risk for the stock\n",
    "6. arrange from top to bottom by current/prospective holdings\n",
    "7. new ticker lookup function??? Perhaps add in update\n",
    "8. download and chart price data, highs and lows, etc.\n",
    "9. assign cost-basis? Maybe include time value of holding?\n",
    "10. update current value of holdings? Use close data or 10 min delay?\n",
    "11. \n",
    "\n"
   ]
  },
  {
   "cell_type": "markdown",
   "id": "6652d7e8",
   "metadata": {},
   "source": [
    "Submit Project Proposal in Jupyter Notebook\n",
    "(1000 words; at least 2 data sources; at least 2 different types of data visualizations)"
   ]
  },
  {
   "cell_type": "code",
   "execution_count": 2,
   "id": "cf7cee78",
   "metadata": {},
   "outputs": [],
   "source": [
    "# use plotly.com/python\n",
    "# consider buying the book of dash\n",
    "# https://nostarch.com/book-dash\n",
    "# FAMA 1970\n",
    "\n",
    "# burton malkial a random walk down wall street\n",
    "# long memory time series\n",
    "# read pdf table python\n",
    "# from tabula import read_pdf\n",
    "\n",
    "# parquay is one of the most efficient data types\n",
    "\n",
    "\n",
    "# https://plotly.com/python/\n",
    "\n",
    "\n",
    "# https://nostarch.com/book-dash\n",
    "# https://www.sec.gov/dera/data/financial-statement-data-sets\n",
    "# https://pypi.org/project/tabula-py/\n",
    "# https://pandas.pydata.org/pandas-docs/version/1.1/reference/api/pandas.DataFrame.to_parquet.html\n",
    "# https://arrow.apache.org/docs/python/install.html"
   ]
  },
  {
   "cell_type": "code",
   "execution_count": 7,
   "id": "5a018d59",
   "metadata": {},
   "outputs": [],
   "source": [
    "import pandas as pd\n",
    "import datetime\n",
    "import requests\n",
    "from requests.exceptions import ConnectionError\n",
    "from bs4 import BeautifulSoup\n",
    "\n",
    "\n",
    "def web_content_div(web_content, class_path):\n",
    "    web_content_div = web_content.find_al(\"div\", {\"class\": class_path})\n",
    "    try:\n",
    "        spdns = web_content_div[0].find_all(\"span\")\n",
    "        texts = [spans.get_text() for span in spans]\n",
    "    except IndexError:\n",
    "        texts = []\n",
    "    return texts\n",
    "\n",
    "\n",
    "\n",
    "def real_time_price(stock_code):\n",
    "    url = \"https://finance.yahoo.com/quote/BRK-B?p=BRK-B&.tsrc=fin-srch\"\n",
    "    try: \n",
    "        r = requests.get(url)\n",
    "        web_content = BeautifulSoup(r.text, \"lxml\")\n",
    "        texts = web_content_div(web_content, \"class_path\")\n",
    "        price, change\n",
    "    except ConectionError:\n",
    "        price, change = [], []\n",
    "    return price, change\n",
    "\n",
    "<fin-streamer class=\"Fw(b) Fz(36px) Mb(-4px) D(ib)\" data-symbol=\"BRK-B\" data-test=\"qsp-price\" data-field=\"regularMarketPrice\" data-trend=\"none\" data-pricehint=\"2\" value=\"308.24\" active=\"\">308.24</fin-streamer>"
   ]
  }
 ],
 "metadata": {
  "kernelspec": {
   "display_name": "Python 3 (ipykernel)",
   "language": "python",
   "name": "python3"
  },
  "language_info": {
   "codemirror_mode": {
    "name": "ipython",
    "version": 3
   },
   "file_extension": ".py",
   "mimetype": "text/x-python",
   "name": "python",
   "nbconvert_exporter": "python",
   "pygments_lexer": "ipython3",
   "version": "3.9.13"
  }
 },
 "nbformat": 4,
 "nbformat_minor": 5
}
